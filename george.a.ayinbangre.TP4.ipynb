{
 "cells": [
  {
   "cell_type": "markdown",
   "id": "d68c1dee",
   "metadata": {
    "id": "d68c1dee"
   },
   "source": [
    "# Practical_4: Flow control"
   ]
  },
  {
   "cell_type": "markdown",
   "id": "4a93f3f5-055b-4c23-8ce1-3053c1bbf099",
   "metadata": {
    "id": "bea983a3"
   },
   "source": [
    "---\n",
    "\n",
    "### Exercise 1:\n",
    "Write a Python program that checks if a number is positive or negative.\n",
    "\n",
    "```python\n",
    "# Exercise 1\n",
    "```\n",
    "\n",
    "---"
   ]
  },
  {
   "cell_type": "code",
   "execution_count": null,
   "id": "11695ba0-6217-4556-b839-9ff8dbd4fc37",
   "metadata": {},
   "outputs": [],
   "source": [
    "number = float(input(\"Enter a number\"))\n",
    "if number > 0:\n",
    "    print(\"It is positive number\")\n",
    "else:\n",
    "    print(\"It is negative number\")"
   ]
  },
  {
   "cell_type": "markdown",
   "id": "70a25b9a-4e83-4cea-a41d-2fd8098dea27",
   "metadata": {
    "id": "bea983a3"
   },
   "source": [
    "### Exercise 2:\n",
    "Write a Python function that checks if a string starts with a vowel.\n",
    "\n",
    "```python\n",
    "# Exercise 2\n",
    "```\n",
    "\n",
    "---"
   ]
  },
  {
   "cell_type": "code",
   "execution_count": null,
   "id": "603c2d8e-deaf-472d-86e1-f4373e888399",
   "metadata": {},
   "outputs": [],
   "source": [
    "def starts_with_vowel(s):\n",
    "    return bool(s) and s[0].lower() in \"aeiou\"\n",
    "\n",
    "print(starts_with_vowel(\"Orange\"))  \n",
    "print(starts_with_vowel(\"Banana\"))  \n"
   ]
  },
  {
   "cell_type": "markdown",
   "id": "cc9b67fd-e213-4981-9d21-1fb609c8527d",
   "metadata": {
    "id": "bea983a3"
   },
   "source": [
    "### Exercise 3:\n",
    "Write a Python program that takes a list of integers and prints \"Even\" for each even number and \"Odd\" for each odd number.\n",
    "\n",
    "```python\n",
    "# Exercise 3\n",
    "```\n",
    "\n",
    "---"
   ]
  },
  {
   "cell_type": "code",
   "execution_count": null,
   "id": "266322c5-52b7-45d9-8526-4545f90bc434",
   "metadata": {},
   "outputs": [],
   "source": [
    "number = int(input(\"Enter a number\"))\n",
    "\n",
    "if number % 2 == 0:\n",
    "    print(\"It is an even number\")\n",
    "else:\n",
    "    print(\"It is an odd number\")"
   ]
  },
  {
   "cell_type": "markdown",
   "id": "a38f228d-6b43-4ed3-8ca6-d8c2e8700448",
   "metadata": {
    "id": "bea983a3"
   },
   "source": [
    "### Exercise 4:\n",
    "Write a Python program that checks if a given year is a leap year.\n",
    "\n",
    "```python\n",
    "# Exercise 4\n",
    "```\n",
    "\n",
    "---"
   ]
  },
  {
   "cell_type": "code",
   "execution_count": null,
   "id": "32993600-f205-4263-bf10-37631364b6ef",
   "metadata": {},
   "outputs": [],
   "source": [
    "year = int(input(\"Enter a year: \"))\n",
    "if year % 4 == 0 : \n",
    "    print(f\"{year} is a leap year.\")\n",
    "else:\n",
    "    print(f\"{year} is not a leap year.\")"
   ]
  },
  {
   "cell_type": "markdown",
   "id": "1aa5bd18-8054-4fcc-9483-9ebcd0872411",
   "metadata": {
    "id": "bea983a3"
   },
   "source": [
    "### Exercise 5:\n",
    "Write a Python function that checks if a number is divisible by both 3 and 5.\n",
    "\n",
    "```python\n",
    "# Exercise 5\n",
    "```\n",
    "\n",
    "---"
   ]
  },
  {
   "cell_type": "code",
   "execution_count": null,
   "id": "8c515a29-5653-48cb-8095-2425adc858c7",
   "metadata": {},
   "outputs": [],
   "source": [
    "number = int(input(\"Enter a number: \"))\n",
    "if number % 3 == 0 or number % 5 == 0:\n",
    "    print(f\"{number} is divisible by 3 and  5\")\n",
    "    "
   ]
  },
  {
   "cell_type": "markdown",
   "id": "c26e7ee1-dc40-4ae6-8c60-4429d0e45081",
   "metadata": {
    "id": "bea983a3"
   },
   "source": [
    "### Exercise 6:\n",
    "Write a Python program that prints \"Hot\" if the temperature is above 30, \"Warm\" if it is between 15 and 30, and \"Cold\" if it is below 15.\n",
    "\n",
    "```python\n",
    "# Exercise 6\n",
    "```\n",
    "\n",
    "---"
   ]
  },
  {
   "cell_type": "code",
   "execution_count": null,
   "id": "989b0f7e-3d70-4834-9441-6b373420c663",
   "metadata": {},
   "outputs": [],
   "source": [
    "temperature = float(input(\"Enter the temperature: \"))\n",
    "\n",
    "if temperature > 30:\n",
    "    print(\"temperature is Hot\")\n",
    "elif 15 <= temperature <= 30:\n",
    "    print(\"temperature is Warm\")\n",
    "else:\n",
    "    print(\"temperature is Cold\")"
   ]
  },
  {
   "cell_type": "markdown",
   "id": "14e64058-1fbc-47ab-a2d6-bc9e2d80e30f",
   "metadata": {
    "id": "bea983a3"
   },
   "source": [
    "### Exercise 7:\n",
    "Write a Python program that checks if a string contains the letter 'a'.\n",
    "\n",
    "```python\n",
    "# Exercise 7\n",
    "```\n",
    "\n",
    "---"
   ]
  },
  {
   "cell_type": "code",
   "execution_count": null,
   "id": "a0279eee-9aba-4137-ab31-fea7e7f77837",
   "metadata": {},
   "outputs": [],
   "source": [
    "text = input(\"Enter a string: \")\n",
    "if 'a' in text:\n",
    "    print(\"The string contains the letter 'a'\")\n",
    "else:\n",
    "    print(\"The string does not contain the letter 'a'\")"
   ]
  },
  {
   "cell_type": "markdown",
   "id": "747e25c6-0acc-4768-839b-d776f465587a",
   "metadata": {
    "id": "bea983a3"
   },
   "source": [
    "### Exercise 8:\n",
    "Write a Python function that checks if two numbers are equal, or which one is larger.\n",
    "\n",
    "```python\n",
    "# Exercise 8\n",
    "```\n",
    "\n",
    "---"
   ]
  },
  {
   "cell_type": "code",
   "execution_count": null,
   "id": "415a90a0-abfd-4eb1-aa49-80c6b12bdbf0",
   "metadata": {},
   "outputs": [],
   "source": [
    "a = float(input(\"Enter a number a: \"))\n",
    "b = float(input(\"Enter a number b: \"))\n",
    "if a == b:\n",
    "    print(\"They are eqaul\")\n",
    "elif a > b:\n",
    "    print(\"print a is larger\")\n",
    "else:\n",
    "    print(\"b is larger\")"
   ]
  },
  {
   "cell_type": "markdown",
   "id": "b5de92c2-c7d8-49f6-972c-f5e244acdabb",
   "metadata": {
    "id": "bea983a3"
   },
   "source": [
    "### Exercise 9:\n",
    "Write a Python program that checks if a list is empty.\n",
    "\n",
    "```python\n",
    "# Exercise 9\n",
    "```\n",
    "\n",
    "---"
   ]
  },
  {
   "cell_type": "code",
   "execution_count": null,
   "id": "bb66f980-4595-4bcc-a378-26025beaea04",
   "metadata": {},
   "outputs": [],
   "source": [
    "fruits = []\n",
    "if len(fruits) == 0:\n",
    "    print(\"The list is empty\")\n",
    "else:\n",
    "    print(\"The list is not empty\")"
   ]
  },
  {
   "cell_type": "markdown",
   "id": "d3a4b0a2-f147-458d-836b-337753f70a0e",
   "metadata": {
    "id": "bea983a3"
   },
   "source": [
    "### Exercise 10:\n",
    "Write a Python function that takes two strings and checks if they are anagrams.\n",
    "\n",
    "```python\n",
    "# Exercise 10\n",
    "```\n",
    "\n",
    "---"
   ]
  },
  {
   "cell_type": "code",
   "execution_count": null,
   "id": "6c558524-4c9a-407f-988e-5bcc2ee6054b",
   "metadata": {},
   "outputs": [],
   "source": [
    "def are_anagrams(str1, str2):\n",
    "    \"\"\"\n",
    "    Check if two strings are anagrams by sorting and comparing.\n",
    "    \n",
    "    Args:\n",
    "        str1 (str): First string\n",
    "        str2 (str): Second string\n",
    "    \n",
    "    Returns:\n",
    "        bool: True if strings are anagrams, False otherwise\n",
    "    \"\"\"\n",
    "    str1 = str1.replace(\" \", \"\").lower()\n",
    "    str2 = str2.replace(\" \", \"\").lower()\n",
    "    \n",
    "    if len(str1) != len(str2):\n",
    "        return False\n",
    "    \n",
    "    return sorted(str1) == sorted(str2)"
   ]
  },
  {
   "cell_type": "markdown",
   "id": "20923c23-bafc-4671-a775-4e66263dfd43",
   "metadata": {
    "id": "bea983a3"
   },
   "source": [
    "### Exercise 11:\n",
    "Write a Python program that checks if a number is prime.\n",
    "\n",
    "```python\n",
    "# Exercise 11\n",
    "```\n",
    "\n",
    "---"
   ]
  },
  {
   "cell_type": "code",
   "execution_count": null,
   "id": "e246a06e-1ad7-435a-bb19-ca94f3a87cd3",
   "metadata": {},
   "outputs": [],
   "source": [
    "def is_prime(num):\n",
    "    if num <= 1:\n",
    "        return False\n",
    "    for i in range(2, int(num**0.5) + 1):\n",
    "        if num % i == 0:\n",
    "            return False\n",
    "    return True\n",
    "\n",
    "number = int(input(\"Enter a number: \"))\n",
    "if is_prime(a):\n",
    "    print(a, \"is a prime number.\")\n",
    "else:\n",
    "    print(a, \"is not a prime number.\")"
   ]
  },
  {
   "cell_type": "markdown",
   "id": "b76b0849-5a95-4ee3-ba59-6fb524d488e3",
   "metadata": {
    "id": "bea983a3"
   },
   "source": [
    "### Exercise 12:\n",
    "Write a Python program that checks if a list of numbers is sorted in ascending order.\n",
    "\n",
    "```python\n",
    "# Exercise 12\n",
    "```\n",
    "---"
   ]
  },
  {
   "cell_type": "code",
   "execution_count": null,
   "id": "228a485c-c1c3-44d2-8f53-99a21db20cc3",
   "metadata": {},
   "outputs": [],
   "source": [
    "\n",
    "numbers = list(input(\"Enter number\"))\n",
    "\n",
    "# Method 1: Compare to sorted()\n",
    "if numbers == sorted(numbers):\n",
    "    print(\"The list is sorted in ascending order.\")\n",
    "else:\n",
    "    print(\"The list is NOT sorted in ascending order.\")\n"
   ]
  },
  {
   "cell_type": "markdown",
   "id": "1a44beea-0a36-448b-a5c0-8e861e0da224",
   "metadata": {
    "id": "bea983a3"
   },
   "source": [
    "### Exercise 13:\n",
    "Write a Python function that takes a character and checks if it is a digit.\n",
    "\n",
    "```python\n",
    "# Exercise 13\n",
    "```\n",
    "\n",
    "---"
   ]
  },
  {
   "cell_type": "code",
   "execution_count": 1,
   "id": "c163702b-f439-4d46-a1de-66b8b72b5750",
   "metadata": {},
   "outputs": [
    {
     "name": "stdout",
     "output_type": "stream",
     "text": [
      "True\n",
      "False\n"
     ]
    }
   ],
   "source": [
    "#Exercise 13:\n",
    "#Write a Python function that takes a character and checks if it is a digit.\n",
    "def is_digit(char):\n",
    "    return char >= '0' and char <= '9'\n",
    "\n",
    "print(is_digit('23'))   \n",
    "print(is_digit('/'))      "
   ]
  },
  {
   "cell_type": "markdown",
   "id": "14b0f67b-e19a-49d0-9d15-ac602579df68",
   "metadata": {
    "id": "bea983a3"
   },
   "source": [
    "### Exercise 14:\n",
    "Write a Python function that checks if a string contains only uppercase letters.\n",
    "\n",
    "```python\n",
    "# Exercise 14\n",
    "```\n",
    "\n",
    "---"
   ]
  },
  {
   "cell_type": "code",
   "execution_count": null,
   "id": "b1988a6e-482f-4706-a363-0e5242b86701",
   "metadata": {},
   "outputs": [],
   "source": [
    "\n",
    "def is_all_uppercase(s):\n",
    "    return s.isupper()\n",
    "\n",
    "string = input(\"Enter a string: \")\n",
    "if is_all_uppercase(string):\n",
    "    print(\"The string contains only uppercase letters.\")\n",
    "else:\n",
    "    print(\"The string does not contain only uppercase letters.\")"
   ]
  },
  {
   "cell_type": "markdown",
   "id": "70ff7648-255b-40b6-9d19-d0a78793bb30",
   "metadata": {
    "id": "bea983a3"
   },
   "source": [
    "### Exercise 15:\n",
    "Write a Python program that checks if a number is a multiple of 10.\n",
    "\n",
    "```python\n",
    "# Exercise 15\n",
    "```\n",
    "\n",
    "---"
   ]
  },
  {
   "cell_type": "code",
   "execution_count": null,
   "id": "b790dba0-4fff-4238-b0c6-89cf20f22e97",
   "metadata": {},
   "outputs": [],
   "source": [
    "\n",
    "num = int(input(\"Enter a number: \"))\n",
    "\n",
    "if num % 10 == 0:\n",
    "    print(num, \"is a multiple of 10.\")\n",
    "else:\n",
    "    print(num, \"is not a multiple of 10.\")"
   ]
  },
  {
   "cell_type": "markdown",
   "id": "41f9c427-141b-4f11-8cb3-c56f9dde39cc",
   "metadata": {
    "id": "bea983a3"
   },
   "source": [
    "### Exercise 16:\n",
    "Write a Python function that checks if a list contains any duplicates.\n",
    "\n",
    "```python\n",
    "# Exercise 16\n",
    "```\n",
    "\n",
    "---"
   ]
  },
  {
   "cell_type": "code",
   "execution_count": null,
   "id": "3b2a7dff-365d-46cd-a865-a6db154b76da",
   "metadata": {},
   "outputs": [],
   "source": [
    "def has_duplicates(lst):\n",
    "    return len(lst) != len(set(lst))\n",
    "\n",
    "nums = [4, 45, 13, 56, 15, 67]\n",
    "print(has_duplicates(nums))\n",
    "\n",
    "nums2 = [1, 22, 22, 4, 5]\n",
    "print(has_duplicates(nums2))"
   ]
  },
  {
   "cell_type": "markdown",
   "id": "1fa79e81-a28c-4725-87b3-6a0afdb62a53",
   "metadata": {
    "id": "bea983a3"
   },
   "source": [
    "### Exercise 17:\n",
    "Write a Python program that prints \"Teenager\" if the age is between 13 and 19, otherwise it prints \"Not a teenager.\"\n",
    "\n",
    "```python\n",
    "# Exercise 17\n",
    "```\n",
    "\n",
    "---"
   ]
  },
  {
   "cell_type": "code",
   "execution_count": null,
   "id": "af928111-899f-4246-8f13-b5c4dc40b356",
   "metadata": {},
   "outputs": [],
   "source": [
    "age = int(input(\"Enter age: \"))\n",
    "\n",
    "if 13 <= age <= 19:\n",
    "    print(\"Teenager\")\n",
    "else:\n",
    "    print(\"Not a teenager\")"
   ]
  },
  {
   "cell_type": "markdown",
   "id": "7ad2ef86-a333-47e6-8bd3-0bbf6ebf7b8a",
   "metadata": {
    "id": "bea983a3"
   },
   "source": [
    "### Exercise 18:\n",
    "Write a Python function that checks if a list contains an element greater than 100.\n",
    "\n",
    "```python\n",
    "# Exercise 18\n",
    "```\n",
    "\n",
    "---"
   ]
  },
  {
   "cell_type": "code",
   "execution_count": null,
   "id": "9f364348-87eb-4310-a47d-eb5da93a03d9",
   "metadata": {},
   "outputs": [],
   "source": [
    "def has_greater_than_100(lst):\n",
    "    for x in lst:\n",
    "        if x > 100:\n",
    "            return True\n",
    "    return False\n"
   ]
  },
  {
   "cell_type": "markdown",
   "id": "51c813a3-59fa-46f8-9ea4-b7d0ae622b2c",
   "metadata": {
    "id": "bea983a3"
   },
   "source": [
    "### Exercise 19:\n",
    "Write a Python program that checks if a number is even or odd.\n",
    "\n",
    "```python\n",
    "# Exercise 19\n",
    "```\n",
    "\n",
    "---"
   ]
  },
  {
   "cell_type": "code",
   "execution_count": null,
   "id": "f92608f2-4449-447f-ad95-cabef084ba5d",
   "metadata": {},
   "outputs": [],
   "source": [
    "num = int(input(\"Enter a number: \"))\n",
    "\n",
    "if num % 2 == 0:\n",
    "    print(num, \"is even.\")\n",
    "else:\n",
    "    print(num, \"is odd.\")"
   ]
  },
  {
   "cell_type": "markdown",
   "id": "0c1a740d-f423-47cd-a9d7-f95d4dbede10",
   "metadata": {
    "id": "bea983a3"
   },
   "source": [
    "### Exercise 20:\n",
    "Write a Python function that checks if a string ends with a punctuation mark.\n",
    "\n",
    "```python\n",
    "# Exercise 20\n",
    "```\n",
    "\n",
    "---"
   ]
  },
  {
   "cell_type": "code",
   "execution_count": null,
   "id": "5c55ef69-2471-4393-862d-4852c4e70cbe",
   "metadata": {},
   "outputs": [],
   "source": [
    "def ends_with_punctuation(s):\n",
    "    punctuation = '.!?;:,'\n",
    "    return len(s) > 0 and s[-1] in punctuation\n",
    " "
   ]
  },
  {
   "cell_type": "markdown",
   "id": "7a8961bf-c0a4-4371-9c6d-ee9c6a995268",
   "metadata": {
    "id": "bea983a3"
   },
   "source": [
    "### Exercise 21:\n",
    "Write a Python program that prints \"Yes\" if the number is between 1 and 100, otherwise it prints \"No.\"\n",
    "\n",
    "```python\n",
    "# Exercise 21\n",
    "```\n",
    "\n",
    "---"
   ]
  },
  {
   "cell_type": "code",
   "execution_count": null,
   "id": "b7200a73-470a-40a3-aa6e-063552a57d3d",
   "metadata": {},
   "outputs": [],
   "source": [
    "num = int(input(\"Enter a number: \"))\n",
    "\n",
    "if 1 <= num <= 100:\n",
    "    print(\"Yes\")\n",
    "else:\n",
    "    print(\"No\")"
   ]
  },
  {
   "cell_type": "markdown",
   "id": "0de67379-8cea-4462-aa23-f9090be23675",
   "metadata": {
    "id": "bea983a3"
   },
   "source": [
    "### Exercise 22:\n",
    "Write a Python program that checks if two strings have the same length.\n",
    "\n",
    "```python\n",
    "# Exercise 22\n",
    "```\n",
    "\n",
    "---"
   ]
  },
  {
   "cell_type": "code",
   "execution_count": null,
   "id": "197f6fdc-56db-4a5f-aafa-9b6f3de62719",
   "metadata": {},
   "outputs": [],
   "source": [
    "str1 = input(\"Enter the first string: \")\n",
    "str2 = input(\"Enter the second string: \")\n",
    "\n",
    "if len(str1) == len(str2):\n",
    "    print(\"The strings have the same length.\")\n",
    "else:\n",
    "    print(\"The strings do not have the same length.\")"
   ]
  },
  {
   "cell_type": "markdown",
   "id": "f09db305-f9f8-44e3-adae-ba64ca45f468",
   "metadata": {
    "id": "bea983a3"
   },
   "source": [
    "### Exercise 23:\n",
    "Write a Python function that checks if a number is greater than its reverse.\n",
    "\n",
    "```python\n",
    "# Exercise 23\n",
    "```\n",
    "\n",
    "---"
   ]
  },
  {
   "cell_type": "code",
   "execution_count": null,
   "id": "07b43e63-0bfb-44fa-bd65-f387c2223673",
   "metadata": {},
   "outputs": [],
   "source": [
    "def is_greater_than_reverse(num):\n",
    "    # Get the reverse of the number as an integer\n",
    "    reverse_num = int(str(num)[::-1])\n",
    "    return num > reverse_num  "
   ]
  },
  {
   "cell_type": "markdown",
   "id": "4b02b089-7c9b-4e16-909d-09bc8ebac8f5",
   "metadata": {
    "id": "bea983a3"
   },
   "source": [
    "### Exercise 24:\n",
    "Write a Python program that checks if a password contains both letters and numbers.\n",
    "\n",
    "```python\n",
    "# Exercise 24\n",
    "```\n",
    "\n",
    "---"
   ]
  },
  {
   "cell_type": "code",
   "execution_count": null,
   "id": "9877beda-9508-4c10-abd7-f593e8f5f942",
   "metadata": {},
   "outputs": [],
   "source": [
    "password = input(\"Enter password: \")\n",
    "\n",
    "has_letter = False\n",
    "has_digit = False\n",
    "\n",
    "for ch in password:\n",
    "    if ('a' <= ch <= 'z') or ('A' <= ch <= 'Z'):\n",
    "        has_letter = True\n",
    "    if '0' <= ch <= '9':\n",
    "        has_digit = True\n",
    "\n",
    "if has_letter and has_digit:\n",
    "    print(\"Password contains both letters and numbers.\")\n",
    "else:\n",
    "    print(\"Password does not contain both letters and numbers.\")"
   ]
  },
  {
   "cell_type": "markdown",
   "id": "4f01d466-93d6-461b-af89-f98560d1fc4e",
   "metadata": {
    "id": "bea983a3"
   },
   "source": [
    "### Exercise 25:\n",
    "Write a Python program that checks if a number is between two given numbers.\n",
    "\n",
    "```python\n",
    "# Exercise 25\n",
    "```\n",
    "\n",
    "---"
   ]
  },
  {
   "cell_type": "code",
   "execution_count": null,
   "id": "1079ef7e-8ad2-4303-9ec7-2c44bb9dba02",
   "metadata": {},
   "outputs": [],
   "source": [
    "num1 = int(input(\"Enter the first number: \"))\n",
    "num2 = int(input(\"Enter the second number: \"))\n",
    "value = int(input(\"Enter the number to check: \"))\n",
    "\n",
    "\n",
    "low = min(num1, num2)\n",
    "high = max(num1, num2)\n",
    "\n",
    "if low <= value <= high:\n",
    "    print(\"Yes, the number is between\", low, \"and\", high)\n",
    "else:\n",
    "    print(\"No, the number is not between\", low, \"and\", high)"
   ]
  },
  {
   "cell_type": "markdown",
   "id": "3a198c7a-8b38-4104-89ab-09ceedd6ecb7",
   "metadata": {
    "id": "bea983a3"
   },
   "source": [
    "### Exercise 26:\n",
    "Write a Python function that checks if all characters in a string are unique.\n",
    "\n",
    "```python\n",
    "# Exercise 26\n",
    "```\n",
    "\n",
    "---"
   ]
  },
  {
   "cell_type": "code",
   "execution_count": null,
   "id": "3b522310-3e08-490d-8ac4-a5f9946e5d6a",
   "metadata": {},
   "outputs": [],
   "source": [
    "def all_unique(s):\n",
    "    for i in range(len(s)):\n",
    "        for j in range(i+1, len(s)):\n",
    "            if s[i] == s[j]:\n",
    "                return False\n",
    "    return True\n"
   ]
  },
  {
   "cell_type": "markdown",
   "id": "2b9fa264-1c65-4ebb-bc72-9edc04676f7b",
   "metadata": {
    "id": "bea983a3"
   },
   "source": [
    "### Exercise 27:\n",
    "Write a Python program that checks if a number is a perfect square.\n",
    "\n",
    "```python\n",
    "# Exercise 27\n",
    "```\n",
    "\n",
    "---"
   ]
  },
  {
   "cell_type": "code",
   "execution_count": null,
   "id": "bb3c47e0-e380-4684-9ef8-8b9404e87597",
   "metadata": {},
   "outputs": [],
   "source": [
    "num = int(input(\"Enter a number: \"))\n",
    "i = 0\n",
    "\n",
    "while i * i < num:\n",
    "    i += 1\n",
    "\n",
    "if i * i == num:\n",
    "    print(num, \"is a perfect square.\")\n",
    "else:\n",
    "    print(num, \"is not a perfect square.\")"
   ]
  },
  {
   "cell_type": "markdown",
   "id": "284ec6be-30db-4afe-b575-cecb88dbc294",
   "metadata": {
    "id": "bea983a3"
   },
   "source": [
    "### Exercise 28:\n",
    "Write a Python function that checks if a word is a palindrome.\n",
    "\n",
    "```python\n",
    "# Exercise 28\n",
    "```\n",
    "\n",
    "---"
   ]
  },
  {
   "cell_type": "code",
   "execution_count": 2,
   "id": "2b6e9bb8-30a4-44d9-a113-7e9fe2ace6e0",
   "metadata": {},
   "outputs": [
    {
     "name": "stdout",
     "output_type": "stream",
     "text": [
      "True\n"
     ]
    }
   ],
   "source": [
    "def is_palindrome(word):\n",
    "    return word == word[::-1]\n",
    "\n",
    "# Example\n",
    "print(is_palindrome(\"radar\"))"
   ]
  },
  {
   "cell_type": "markdown",
   "id": "675a3c03-023f-4370-af5c-2fd41753eaf8",
   "metadata": {
    "id": "bea983a3"
   },
   "source": [
    "### Exercise 29:\n",
    "Write a Python program that prints \"Fizz\" if a number is divisible by 3, \"Buzz\" if it is divisible by 5, and \"FizzBuzz\" if divisible by both.\n",
    "\n",
    "```python\n",
    "# Exercise 29\n",
    "```\n",
    "\n",
    "---"
   ]
  },
  {
   "cell_type": "code",
   "execution_count": null,
   "id": "f0ce9df7-e290-41a7-9714-74982965a781",
   "metadata": {},
   "outputs": [],
   "source": [
    "num = int(input(\"Enter a number: \"))\n",
    "\n",
    "if num % 3 == 0 and num % 5 == 0:\n",
    "    print(\"FizzBuzz\")\n",
    "elif num % 3 == 0:\n",
    "    print(\"Fizz\")\n",
    "elif num % 5 == 0:\n",
    "    print(\"Buzz\")\n",
    "else:\n",
    "    print(num)"
   ]
  },
  {
   "cell_type": "markdown",
   "id": "7f22f05e-6011-4762-8c45-11296ee95b72",
   "metadata": {
    "id": "bea983a3"
   },
   "source": [
    "### Exercise 30:\n",
    "Write a Python program that checks if the sum of the digits of a number is even.\n",
    "\n",
    "```python\n",
    "# Exercise 30\n",
    "```\n",
    "\n",
    "---"
   ]
  },
  {
   "cell_type": "code",
   "execution_count": null,
   "id": "59efd0ec-1a9f-4f0e-a2d0-21a6e7569879",
   "metadata": {},
   "outputs": [],
   "source": [
    "num = int(input(\"Enter a number: \"))\n",
    "total = 0\n",
    "n = num\n",
    "\n",
    "while n > 0:\n",
    "    total += n % 10\n",
    "    n //= 10\n",
    "\n",
    "if total % 2 == 0:\n",
    "    print(\"The sum of the digits is even.\")\n",
    "else:\n",
    "    print(\"The sum of the digits is odd.\")"
   ]
  },
  {
   "cell_type": "markdown",
   "id": "c6c182b2-b057-4efd-9d7d-2d1e3d10b73f",
   "metadata": {
    "id": "bea983a3"
   },
   "source": [
    "### Exercise 31:\n",
    "Write a Python program that checks if a string is a valid email address.\n",
    "\n",
    "```python\n",
    "# Exercise 31\n",
    "```\n",
    "\n",
    "---"
   ]
  },
  {
   "cell_type": "code",
   "execution_count": null,
   "id": "af1dfbdd-0cd3-409e-bde7-9a117b5dbb97",
   "metadata": {},
   "outputs": [],
   "source": [
    "email = input(\"Enter an email address: \")\n",
    "\n",
    "if (\"@\" in email and \n",
    "    \".\" in email and \n",
    "    email.count(\"@\") == 1 and\n",
    "    email.index(\"@\") > 0 and \n",
    "    email.index(\".\") > email.index(\"@\") + 1 and\n",
    "    email[-1] != \".\"):\n",
    "    print(\"Valid email address.\")\n",
    "else:\n",
    "    print(\"Invalid email address.\")"
   ]
  },
  {
   "cell_type": "markdown",
   "id": "410426f2-d39d-4a9d-a554-55062b3347a3",
   "metadata": {
    "id": "bea983a3"
   },
   "source": [
    "### Exercise 32:\n",
    "Write a Python function that checks if a number is within 10 of 100 or 200.\n",
    "\n",
    "```python\n",
    "# Exercise 32\n",
    "```\n",
    "\n",
    "---"
   ]
  },
  {
   "cell_type": "code",
   "execution_count": null,
   "id": "68ed0a65-6445-4f44-81ff-3ed0e606b4e5",
   "metadata": {},
   "outputs": [],
   "source": [
    "def within_10_of_100_or_200(num):\n",
    "    return abs(100 - num) <= 10 or abs(200 - num) <= 10\n",
    "\n",
    "print(within_10_of_100_or_200(95))   \n",
    "print(within_10_of_100_or_200(205))  \n",
    "print(within_10_of_100_or_200(150))  "
   ]
  },
  {
   "cell_type": "markdown",
   "id": "355ddffb-627f-4f78-8ed7-ef2da1e2f9c7",
   "metadata": {
    "id": "bea983a3"
   },
   "source": [
    "### Exercise 33:\n",
    "Write a Python program that checks if a given string is a valid URL.\n",
    "\n",
    "```python\n",
    "# Exercise 33\n",
    "```\n",
    "\n",
    "---"
   ]
  },
  {
   "cell_type": "code",
   "execution_count": null,
   "id": "cd03f246-3240-457b-9523-b023023ab8a2",
   "metadata": {},
   "outputs": [],
   "source": [
    "url = input(\"Enter a URL: \")\n",
    "\n",
    "if (url.startswith(\"http://\") or url.startswith(\"https://\")) and \".\" in url and len(url) > 8:\n",
    "    print(\"Valid URL.\")\n",
    "else:\n",
    "    print(\"Invalid URL.\")"
   ]
  },
  {
   "cell_type": "markdown",
   "id": "7901e878-680d-41c0-ab12-7b9c9d67b1a1",
   "metadata": {
    "id": "bea983a3"
   },
   "source": [
    "### Exercise 34:\n",
    "Write a Python program that checks if a list contains all even numbers.\n",
    "\n",
    "```python\n",
    "# Exercise 34\n",
    "```\n",
    "\n",
    "---"
   ]
  },
  {
   "cell_type": "code",
   "execution_count": null,
   "id": "16e56ba5-2b2a-4ce8-9210-5a9eba4eae58",
   "metadata": {},
   "outputs": [],
   "source": [
    "lst = input(\"Enter numbers separated by spaces: \").split()\n",
    "all_even = True\n",
    "\n",
    "for num in lst:\n",
    "    if int(num) % 2 != 0:\n",
    "        all_even = False\n",
    "        break\n",
    "\n",
    "if all_even:\n",
    "    print(\"All numbers in the list are even.\")\n",
    "else:\n",
    "    print(\"Not all numbers in the list are even.\")"
   ]
  },
  {
   "cell_type": "markdown",
   "id": "e0526ccc-09db-4aa0-ade8-4628ff45d94f",
   "metadata": {
    "id": "bea983a3"
   },
   "source": [
    "### Exercise 35:\n",
    "Write a Python program that checks if a word is longer than a given length.\n",
    "\n",
    "```python\n",
    "# Exercise 35\n",
    "```\n",
    "\n",
    "---\n",
    "_"
   ]
  },
  {
   "cell_type": "code",
   "execution_count": null,
   "id": "797e1722-b03c-4851-9b60-8c0fc9f4cdfc",
   "metadata": {},
   "outputs": [],
   "source": [
    "word = input(\"Enter a word: \")\n",
    "length = int(input(\"Enter the length to check: \"))\n",
    "\n",
    "if len(word) > length:\n",
    "    print(\"The word is longer than\", length)\n",
    "else:\n",
    "    print(\"The word is not longer than\", length)"
   ]
  },
  {
   "cell_type": "markdown",
   "id": "948fd343-6dc7-4076-84c7-15d526fe864c",
   "metadata": {
    "id": "bea983a3"
   },
   "source": [
    "### Exercise 36:\n",
    "Write a Python program that checks if a list contains only positive numbers.\n",
    "\n",
    "```python\n",
    "# Exercise 36\n",
    "```\n",
    "\n",
    "---"
   ]
  },
  {
   "cell_type": "code",
   "execution_count": null,
   "id": "cc3b06e7-1c87-4b15-9129-2c1374f463c7",
   "metadata": {},
   "outputs": [],
   "source": [
    "lst = input(\"Enter numbers separated by spaces: \").split()\n",
    "all_positive = True\n",
    "\n",
    "for num in lst:\n",
    "    if int(num) <= 0:\n",
    "        all_positive = False\n",
    "        break\n",
    "\n",
    "if all_positive:\n",
    "    print(\"All numbers in the list are positive.\")\n",
    "else:\n",
    "    print(\"Not all numbers in the list are positive.\")"
   ]
  },
  {
   "cell_type": "markdown",
   "id": "b53c2189-8edd-4df9-90ca-25a155a9c430",
   "metadata": {
    "id": "bea983a3"
   },
   "source": [
    "### Exercise 37:\n",
    "Write a Python function that checks if a year is a century year (i.e., divisible by 100).\n",
    "\n",
    "```python\n",
    "# Exercise 37\n",
    "```\n",
    "\n",
    "---"
   ]
  },
  {
   "cell_type": "code",
   "execution_count": 3,
   "id": "a94e25c7-931a-4bd6-ba59-6c4155314247",
   "metadata": {},
   "outputs": [
    {
     "data": {
      "text/plain": [
       "False"
      ]
     },
     "execution_count": 3,
     "metadata": {},
     "output_type": "execute_result"
    }
   ],
   "source": [
    "def is_century_year(year):\n",
    "    return year % 100 == 0\n",
    "is_century_year(2005)"
   ]
  },
  {
   "cell_type": "markdown",
   "id": "93bafb06-b22b-4c80-8611-b504463387e7",
   "metadata": {
    "id": "bea983a3"
   },
   "source": [
    "### Exercise 38:\n",
    "Write a Python program that checks if the sum of a list of numbers is greater than 100.\n",
    "\n",
    "```python\n",
    "# Exercise 38\n",
    "```\n",
    "\n",
    "---"
   ]
  },
  {
   "cell_type": "code",
   "execution_count": null,
   "id": "57cdb0e9-02ef-43fc-915d-57b2e8e9ccc0",
   "metadata": {},
   "outputs": [],
   "source": [
    "numbers = input(\"Enter numbers separated by spaces: \").split()\n",
    "total = 0\n",
    "\n",
    "for num in numbers:\n",
    "    total += int(num)\n",
    "\n",
    "if total > 100:\n",
    "    print(\"The sum of the numbers is greater than 100.\")\n",
    "elif total == 100:\n",
    "    print(\"The sum of the numbers is 100.\")\n",
    "else:    \n",
    "    print(\"The sum of the numbers is not greater than 100.\")"
   ]
  },
  {
   "cell_type": "markdown",
   "id": "e0627787-f107-4030-bfb5-ee94e4aae411",
   "metadata": {
    "id": "bea983a3"
   },
   "source": [
    "### Exercise 39:\n",
    "Write a Python function that checks if a given word is a substring of another string.\n",
    "\n",
    "```python\n",
    "# Exercise 39\n",
    "```\n",
    "\n",
    "---"
   ]
  },
  {
   "cell_type": "code",
   "execution_count": null,
   "id": "42083e23-8801-4ceb-84d6-9183cddfb7e5",
   "metadata": {},
   "outputs": [],
   "source": [
    "def is_substring(word, text):\n",
    "    return word in text\n"
   ]
  },
  {
   "cell_type": "markdown",
   "id": "9555d1c6-f841-462c-a4b2-02fd71b11310",
   "metadata": {
    "id": "bea983a3"
   },
   "source": [
    "### Exercise 40:\n",
    "Write a Python program that checks if a number is a power of 2.\n",
    "\n",
    "```python\n",
    "# Exercise 40\n",
    "```\n",
    "\n",
    "---"
   ]
  },
  {
   "cell_type": "code",
   "execution_count": null,
   "id": "9fe65d48-0c42-4efb-a2a9-01edd092cc41",
   "metadata": {},
   "outputs": [],
   "source": [
    "def is_power_of_two(n):\n",
    "    return n > 0 and (n & (n - 1)) == 0\n",
    "\n",
    "number = int(input(\"Enter a number: \"))\n",
    "if is_power_of_two(number):\n",
    "    print(f\"{number} is a power of two.\")\n",
    "else:\n",
    "    print(f\"{number} is not a power of two.\")"
   ]
  },
  {
   "cell_type": "markdown",
   "id": "eb6af797-f1c6-4476-9fdf-dc76f6943264",
   "metadata": {
    "id": "bea983a3"
   },
   "source": [
    "### Exercise 41:\n",
    "Write a Python function that checks if a string contains no spaces.\n",
    "\n",
    "```python\n",
    "# Exercise 41\n",
    "```\n",
    "\n",
    "---"
   ]
  },
  {
   "cell_type": "code",
   "execution_count": null,
   "id": "3c45b602-953d-45a3-ba61-680a41f6d248",
   "metadata": {},
   "outputs": [],
   "source": [
    "def has_no_spaces(s):\n",
    "    return \" \" not in s\n",
    "\n",
    "string = input(\"Enter a string: \")\n",
    "if has_no_spaces(string):\n",
    "    print(\"The string contains no spaces.\")\n",
    "else:\n",
    "    print(\"The string contains spaces.\")"
   ]
  },
  {
   "cell_type": "markdown",
   "id": "51597d12-72fa-46b8-9571-65e2c85b6b7a",
   "metadata": {
    "id": "bea983a3"
   },
   "source": [
    "### Exercise 42:\n",
    "Write a Python program that prints \"Yes\" if a number is divisible by both 2 and 3, otherwise it prints \"No.\"\n",
    "\n",
    "```python\n",
    "# Exercise 42\n",
    "```\n",
    "\n",
    "---"
   ]
  },
  {
   "cell_type": "code",
   "execution_count": null,
   "id": "1ea43e46-543c-4c61-a1d6-2f0e308f86d0",
   "metadata": {},
   "outputs": [],
   "source": [
    "num = int(input(\"Enter a number: \"))\n",
    "if num % 2 == 0 and num % 3 == 0:\n",
    "    print(\"Yes\")\n",
    "else:\n",
    "    print(\"No\")"
   ]
  },
  {
   "cell_type": "markdown",
   "id": "41841984-507b-4a25-b0fe-e83daccc7bff",
   "metadata": {
    "id": "bea983a3"
   },
   "source": [
    "### Exercise 43:\n",
    "Write a Python program that checks if a number is a palindrome.\n",
    "\n",
    "```python\n",
    "# Exercise 43\n",
    "```\n",
    "\n",
    "---"
   ]
  },
  {
   "cell_type": "code",
   "execution_count": null,
   "id": "fa7d9afa-7b60-44db-814f-75ff2afc66dc",
   "metadata": {},
   "outputs": [],
   "source": [
    "num = input(\"Enter a number: \")\n",
    "if num == num[::-1]:\n",
    "    print(\"Yes, it's a palindrome.\")\n",
    "else:\n",
    "    print(\"No, it's not a palindrome.\")"
   ]
  },
  {
   "cell_type": "markdown",
   "id": "403583a8-aeb0-4607-8db0-6e0a00da68c7",
   "metadata": {
    "id": "bea983a3"
   },
   "source": [
    "### Exercise 44:\n",
    "Write a Python function that checks if a string is made of only lowercase letters.\n",
    "\n",
    "```python\n",
    "# Exercise 44\n",
    "```\n",
    "\n",
    "---"
   ]
  },
  {
   "cell_type": "code",
   "execution_count": null,
   "id": "312c85f6-8856-4149-8897-1934889fb2d0",
   "metadata": {},
   "outputs": [],
   "source": [
    "def is_all_lowercase(s):\n",
    "    return s.islower()\n",
    "string = input(\"Enter a string: \")\n",
    "if is_all_lowercase(string):\n",
    "    print(\"The string contains only lowercase letters.\")\n",
    "else:\n",
    "    print(\"The string does not contain only lowercase letters.\")"
   ]
  },
  {
   "cell_type": "markdown",
   "id": "4d0053b9-7396-4cc3-8610-bf0d5d6ee801",
   "metadata": {
    "id": "bea983a3"
   },
   "source": [
    "### Exercise 45:\n",
    "Write a Python program that checks if a string starts with a specific prefix.\n",
    "\n",
    "```python\n",
    "# Exercise 45\n",
    "```\n",
    "\n",
    "---"
   ]
  },
  {
   "cell_type": "code",
   "execution_count": null,
   "id": "1829e7d3-d2f7-4ae0-9135-d1320b5a8de3",
   "metadata": {},
   "outputs": [],
   "source": [
    "string = input(\"Enter a string: \")\n",
    "prefix = input(\"Enter the prefix to check: \")\n",
    "if string.startswith(prefix):\n",
    "    print(\"The string starts with the specified prefix.\")\n",
    "else:\n",
    "    print(\"The string does not start with the specified prefix.\")"
   ]
  },
  {
   "cell_type": "markdown",
   "id": "ffc43d43-89c2-4e0c-a1fd-18e8f9f3d27d",
   "metadata": {
    "id": "bea983a3"
   },
   "source": [
    "### Exercise 46:\n",
    "Write a Python function that checks if a number is divisible by any number in a given list.\n",
    "\n",
    "```python\n",
    "# Exercise 46\n",
    "```\n",
    "\n",
    "---"
   ]
  },
  {
   "cell_type": "code",
   "execution_count": null,
   "id": "302a6a6a-7d3d-457d-a7fa-57e3a17e331d",
   "metadata": {},
   "outputs": [],
   "source": [
    "def divisible_by_any(n, divisors):\n",
    "    return any(n % d == 0 for d in divisors)\n",
    "number = int(input(\"Enter a number: \"))\n",
    "divisor_list = [2, 3, 5, 7]  \n",
    "if divisible_by_any(number, divisor_list):\n",
    "    print(f\"{number} is divisible by at least one number in the list.\")\n",
    "else:\n",
    "    print(f\"{number} is not divisible by any number in the list.\")"
   ]
  },
  {
   "cell_type": "markdown",
   "id": "4ec127e9-60c4-4477-be5a-33ef6bf0925b",
   "metadata": {
    "id": "bea983a3"
   },
   "source": [
    "### Exercise 47:\n",
    "Write a Python program that prints \"Yes\" if a string has more than one occurrence of the same letter.\n",
    "\n",
    "```python\n",
    "# Exercise 47\n",
    "```\n",
    "\n",
    "---"
   ]
  },
  {
   "cell_type": "code",
   "execution_count": null,
   "id": "35edf7a4-14c0-4a6b-83d0-d521335d682e",
   "metadata": {},
   "outputs": [],
   "source": [
    "s = input(\"Enter a string: \")\n",
    "counts = {}\n",
    "for char in s:\n",
    "    if char.isalpha():\n",
    "        counts[char] = counts.get(char, 0) + 1\n",
    "\n",
    "if any(count > 1 for count in counts.values()):\n",
    "    print(\"Yes\")\n",
    "else:\n",
    "    print(\"No\")\n"
   ]
  },
  {
   "cell_type": "markdown",
   "id": "56c8149a-7be0-4a14-8aaa-a7c76929c8ff",
   "metadata": {
    "id": "bea983a3"
   },
   "source": [
    "### Exercise 48:\n",
    "Write a Python function that checks if a number is prime by dividing it by numbers up to its square root.\n",
    "\n",
    "```python\n",
    "# Exercise 48\n",
    "```\n",
    "\n",
    "---"
   ]
  },
  {
   "cell_type": "code",
   "execution_count": null,
   "id": "c2663345-29bf-4bc8-a224-7b4302260500",
   "metadata": {},
   "outputs": [],
   "source": [
    "def divisible_by_any(n, divisors):\n",
    "    return any(n % d == 0 for d in divisors)\n",
    "number = int(input(\"Enter a number: \"))\n",
    "divisor_list = [2, 3, 5, 7]  # Example list\n",
    "if divisible_by_any(number, divisor_list):\n",
    "    print(f\"{number} is divisible by at least one number in the list.\")\n",
    "else:\n",
    "    print(f\"{number} is not divisible by any number in the list.\")"
   ]
  },
  {
   "cell_type": "markdown",
   "id": "3360c605-1690-40b4-b115-4356b75b3e0a",
   "metadata": {
    "id": "bea983a3"
   },
   "source": [
    "### Exercise 49:\n",
    "Write a Python program that checks if a number is within 1 of a multiple of 10.\n",
    "\n",
    "```python\n",
    "# Exercise 49\n",
    "```\n",
    "\n",
    "---"
   ]
  },
  {
   "cell_type": "code",
   "execution_count": 4,
   "id": "4f9818d9-4d1f-478f-924c-9625a41cef01",
   "metadata": {},
   "outputs": [
    {
     "name": "stdin",
     "output_type": "stream",
     "text": [
      "Enter a number:  50\n"
     ]
    },
    {
     "name": "stdout",
     "output_type": "stream",
     "text": [
      "The number is not within 1 of a multiple of 10.\n"
     ]
    }
   ],
   "source": [
    "number = int(input(\"Enter a number: \"))\n",
    "if number % 10 == 1 or number % 10 == 9:\n",
    "    print(\"The number is within 1 of a multiple of 10.\")\n",
    "else:\n",
    "    print(\"The number is not within 1 of a multiple of 10.\")"
   ]
  },
  {
   "cell_type": "markdown",
   "id": "3fe048cd-6a80-471b-a4cb-e30603d952ff",
   "metadata": {
    "id": "bea983a3"
   },
   "source": [
    "### Exercise 50:\n",
    "Write a Python program that prints \"In range\" if a number is between 10 and 20 (inclusive), otherwise it prints \"Out of range.\"\n",
    "\n",
    "```python\n",
    "# Exercise 50\n",
    "```\n",
    "\n",
    "---"
   ]
  },
  {
   "cell_type": "code",
   "execution_count": null,
   "id": "70bb3743-6100-4a8e-b5c9-fda3ace80b14",
   "metadata": {},
   "outputs": [],
   "source": [
    "number = float(input(\"Enter a number: \"))\n",
    "if 10 <= number <= 20:\n",
    "    print(\"In range\")\n",
    "else:\n",
    "    print(\"Out of range\")"
   ]
  }
 ],
 "metadata": {
  "colab": {
   "provenance": []
  },
  "kernelspec": {
   "display_name": "Python [conda env:base] *",
   "language": "python",
   "name": "conda-base-py"
  },
  "language_info": {
   "codemirror_mode": {
    "name": "ipython",
    "version": 3
   },
   "file_extension": ".py",
   "mimetype": "text/x-python",
   "name": "python",
   "nbconvert_exporter": "python",
   "pygments_lexer": "ipython3",
   "version": "3.12.4"
  }
 },
 "nbformat": 4,
 "nbformat_minor": 5
}
