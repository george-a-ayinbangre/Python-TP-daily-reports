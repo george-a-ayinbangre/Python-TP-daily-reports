{
 "cells": [
  {
   "cell_type": "markdown",
   "id": "d68c1dee",
   "metadata": {
    "id": "d68c1dee"
   },
   "source": [
    "# Practical_3: Iterable objects or Containers"
   ]
  },
  {
   "cell_type": "markdown",
   "id": "bea983a3",
   "metadata": {
    "id": "bea983a3"
   },
   "source": [
    "\n",
    "---\n",
    "\n",
    "### Exercise 1:\n",
    "Create a list of integers from 1 to 10.\n",
    "\n",
    "```python\n",
    "# Exercise 1\n",
    "```\n",
    "\n",
    "---\n",
    "\n",
    "### Exercise 2:\n",
    "Create a tuple containing the elements `\"apple\"`, `\"banana\"`, and `\"cherry\"`.\n",
    "\n",
    "```python\n",
    "# Exercise 2\n",
    "```\n",
    "\n",
    "---\n",
    "\n",
    "### Exercise 3:\n",
    "Convert the list `numbers = [10, 20, 30, 40]` into a tuple.\n",
    "\n",
    "```python\n",
    "# Exercise 3\n",
    "```\n",
    "\n",
    "---\n",
    "\n",
    "### Exercise 4:\n",
    "Create a set containing the elements `1, 2, 3, 4, 5`.\n",
    "\n",
    "```python\n",
    "# Exercise 4\n",
    "```\n",
    "\n",
    "---\n",
    "\n",
    "### Exercise 5:\n",
    "Create a dictionary `student` with the keys `\"name\"`, `\"age\"`, and `\"grade\"` and corresponding values `\"Alice\"`, `20`, and `\"A\"`.\n",
    "\n",
    "```python\n",
    "# Exercise 5\n",
    "```\n",
    "\n",
    "---\n",
    "\n",
    "### Exercise 6:\n",
    "Access the second element of the list `[10, 20, 30, 40, 50]` using indexing.\n",
    "\n",
    "```python\n",
    "# Exercise 6\n",
    "```\n",
    "\n",
    "---\n",
    "\n",
    "### Exercise 7:\n",
    "Change the third element of the list `fruits = [\"apple\", \"banana\", \"cherry\", \"orange\"]` to `\"mango\"`.\n",
    "\n",
    "```python\n",
    "# Exercise 7\n",
    "```\n",
    "\n",
    "---\n",
    "\n",
    "### Exercise 8:\n",
    "Add the number `6` to the set `numbers = {1, 2, 3, 4, 5}`.\n",
    "\n",
    "```python\n",
    "# Exercise 8\n",
    "```\n",
    "\n",
    "---\n",
    "\n",
    "### Exercise 9:\n",
    "Remove the key `\"age\"` from the dictionary `person = {\"name\": \"John\", \"age\": 25, \"city\": \"New York\"}`.\n",
    "\n",
    "```python\n",
    "# Exercise 9\n",
    "```\n",
    "\n",
    "---\n",
    "\n",
    "### Exercise 10:\n",
    "Create a range object starting from 0 to 9.\n",
    "\n",
    "```python\n",
    "# Exercise 10\n",
    "```\n",
    "\n",
    "---\n",
    "\n",
    "### Exercise 11:\n",
    "Use a list comprehension to create a list of squares of numbers from 1 to 10.\n",
    "\n",
    "```python\n",
    "# Exercise 11\n",
    "```\n",
    "\n",
    "---\n",
    "\n",
    "### Exercise 12:\n",
    "Create a tuple of even numbers between 2 and 10 using a tuple comprehension.\n",
    "\n",
    "```python\n",
    "# Exercise 12\n",
    "```\n",
    "\n",
    "---\n",
    "\n",
    "### Exercise 13:\n",
    "Use a for loop to iterate through the list `fruits = [\"apple\", \"banana\", \"cherry\"]` and print each element.\n",
    "\n",
    "```python\n",
    "# Exercise 13\n",
    "```\n",
    "\n",
    "---\n",
    "\n",
    "### Exercise 14:\n",
    "Check if the value `3` exists in the set `numbers = {1, 2, 3, 4, 5}`.\n",
    "\n",
    "```python\n",
    "# Exercise 14\n",
    "```\n",
    "\n",
    "---\n",
    "\n",
    "### Exercise 15:\n",
    "Use the `len()` function to find the length of the tuple `numbers = (10, 20, 30)`.\n",
    "\n",
    "```python\n",
    "# Exercise 15\n",
    "```\n",
    "\n",
    "---\n",
    "\n",
    "### Exercise 16:\n",
    "Add the value `100` at the end of the list `scores = [80, 85, 90, 95]`.\n",
    "\n",
    "```python\n",
    "# Exercise 16\n",
    "```\n",
    "\n",
    "---\n",
    "\n",
    "### Exercise 17:\n",
    "Write a function that takes a list as input and returns the sum of all elements in the list.\n",
    "\n",
    "```python\n",
    "# Exercise 17\n",
    "```\n",
    "\n",
    "---\n",
    "\n",
    "### Exercise 18:\n",
    "Create a set containing the unique elements of the list `numbers = [1, 2, 2, 3, 4, 4, 5]`.\n",
    "\n",
    "```python\n",
    "# Exercise 18\n",
    "```\n",
    "\n",
    "---\n",
    "\n",
    "### Exercise 19:\n",
    "Convert the string `\"hello\"` into a list of characters.\n",
    "\n",
    "```python\n",
    "# Exercise 19\n",
    "```\n",
    "\n",
    "---\n",
    "\n",
    "### Exercise 20:\n",
    "Write a Python function that reverses a tuple `(1, 2, 3, 4)`.\n",
    "\n",
    "```python\n",
    "# Exercise 20\n",
    "```\n",
    "\n",
    "---\n",
    "\n",
    "### Exercise 21:\n",
    "Merge two dictionaries `dict1 = {\"a\": 1, \"b\": 2}` and `dict2 = {\"c\": 3, \"d\": 4}` into a single dictionary.\n",
    "\n",
    "```python\n",
    "# Exercise 21\n",
    "```\n",
    "\n",
    "---\n",
    "\n",
    "### Exercise 22:\n",
    "Create a dictionary where keys are numbers from 1 to 5, and values are their squares.\n",
    "\n",
    "```python\n",
    "# Exercise 22\n",
    "```\n",
    "\n",
    "---\n",
    "\n",
    "### Exercise 23:\n",
    "Write a Python program to iterate through a dictionary and print each key-value pair.\n",
    "\n",
    "```python\n",
    "# Exercise 23\n",
    "```\n",
    "\n",
    "---\n",
    "\n",
    "### Exercise 24:\n",
    "Create a list of the first 5 letters of the alphabet using the `chr()` function.\n",
    "\n",
    "```python\n",
    "# Exercise 24\n",
    "```\n",
    "\n",
    "---\n",
    "\n",
    "### Exercise 25:\n",
    "Use the `zip()` function to combine two lists `[1, 2, 3]` and `[\"a\", \"b\", \"c\"]` into a list of tuples.\n",
    "\n",
    "```python\n",
    "# Exercise 25\n",
    "```\n",
    "\n",
    "---\n",
    "\n",
    "### Exercise 26:\n",
    "Find the index of the value `50` in the list `[10, 20, 30, 40, 50]`.\n",
    "\n",
    "```python\n",
    "# Exercise 26\n",
    "```\n",
    "\n",
    "---\n",
    "\n",
    "### Exercise 27:\n",
    "Sort the list `names = [\"Alice\", \"Bob\", \"Charlie\", \"David\"]` in alphabetical order.\n",
    "\n",
    "```python\n",
    "# Exercise 27\n",
    "```\n",
    "\n",
    "---\n",
    "\n",
    "### Exercise 28:\n",
    "Write a Python function that takes a list of integers as input and returns the largest number.\n",
    "\n",
    "```python\n",
    "# Exercise 28\n",
    "```\n",
    "\n",
    "---\n",
    "\n",
    "### Exercise 29:\n",
    "Use the `count()` method to count how many times `\"apple\"` appears in the list `fruits = [\"apple\", \"banana\", \"apple\", \"orange\"]`.\n",
    "\n",
    "```python\n",
    "# Exercise 29\n",
    "```\n",
    "\n",
    "---\n",
    "\n",
    "### Exercise 30:\n",
    "Create a dictionary `person` where keys are `\"name\"`, `\"age\"`, and `\"city\"`, and values are `\"Alice\"`, `25`, and `\"New York\"` respectively. Then access the value of the `\"city\"` key.\n",
    "\n",
    "```python\n",
    "# Exercise 30\n",
    "```\n",
    "\n",
    "---\n",
    "\n",
    "### Exercise 31:\n",
    "Write a Python function that takes a list as input and returns a new list with all duplicates removed.\n",
    "\n",
    "```python\n",
    "# Exercise 31\n",
    "```\n",
    "\n",
    "---\n",
    "\n",
    "### Exercise 32:\n",
    "Write a Python function that takes two lists and returns their intersection.\n",
    "\n",
    "```python\n",
    "# Exercise 32\n",
    "```\n",
    "\n",
    "---\n",
    "\n",
    "### Exercise 33:\n",
    "Create a generator that yields the squares of numbers from 1 to 10.\n",
    "\n",
    "```python\n",
    "# Exercise 33\n",
    "```\n",
    "\n",
    "---\n",
    "\n",
    "### Exercise 34:\n",
    "Write a Python function that takes a dictionary as input and returns the sum of all its values.\n",
    "\n",
    "```python\n",
    "# Exercise 34\n",
    "```\n",
    "\n",
    "---\n",
    "\n",
    "### Exercise 35:\n",
    "Use the `sorted()` function to sort the list `[3, 1, 4, 1, 5, 9]` in ascending order.\n",
    "\n",
    "```python\n",
    "# Exercise 35\n",
    "```\n",
    "\n",
    "---\n",
    "\n",
    "### Exercise 36:\n",
    "Write a Python function that takes a list of strings as input and returns the longest string.\n",
    "\n",
    "```python\n",
    "# Exercise 36\n",
    "```\n",
    "\n",
    "---\n",
    "\n",
    "### Exercise 37:\n",
    "Check if all the elements in the list `[1, 2, 3, 4, 5]` are greater than 0 using the `all()` function.\n",
    "\n",
    "```python\n",
    "# Exercise 37\n",
    "```\n",
    "\n",
    "---\n",
    "\n",
    "### Exercise 38:\n",
    "Create a list of tuples where each tuple contains a number and its square for numbers from 1 to 5.\n",
    "\n",
    "```python\n",
    "# Exercise 38\n",
    "```\n",
    "\n",
    "---\n",
    "\n",
    "### Exercise 39:\n",
    "Write a Python function that takes a list of tuples and returns a list of the second elements from each tuple.\n",
    "\n",
    "```python\n",
    "# Exercise 39\n",
    "```\n",
    "\n",
    "---\n",
    "\n",
    "### Exercise 40:\n",
    "Write a Python function that flattens a list of lists into a single list.\n",
    "\n",
    "```python\n",
    "# Exercise 40\n",
    "```\n",
    "\n",
    "---\n",
    "\n",
    "### Exercise 41:\n",
    "Use the `enumerate()` function to iterate through the list `[\"apple\", \"banana\", \"cherry\"]` and print the index and value.\n",
    "\n",
    "```python\n",
    "# Exercise 41\n",
    "```\n",
    "\n",
    "---\n",
    "\n",
    "### Exercise 42:\n",
    "Write a Python program that checks if a tuple is empty.\n",
    "\n",
    "```python\n",
    "# Exercise 42\n",
    "```\n",
    "\n",
    "---\n",
    "\n",
    "### Exercise 43:\n",
    "Create a list of even numbers between 1 and 20 using the `range()` function.\n",
    "\n",
    "```python\n",
    "# Exercise 43\n",
    "```\n",
    "\n",
    "---\n",
    "\n",
    "### Exercise 44:\n",
    "Write a Python function that takes a list of numbers as input and returns the list in reverse order.\n",
    "\n",
    "```python\n",
    "# Exercise 44\n",
    "```\n",
    "\n",
    "---\n",
    "\n",
    "### Exercise 45:\n",
    "Create a dictionary comprehension that maps numbers from 1 to 5 to their cubes.\n",
    "\n",
    "```python\n",
    "# Exercise 45\n",
    "```\n",
    "\n",
    "---\n",
    "\n",
    "### Exercise 46:\n",
    "Write a Python program that creates a new list containing only the unique elements of the list `[1, 2, 2, 3, 4, 4, 5]`.\n",
    "\n",
    "```python\n",
    "# Exercise 46\n",
    "```\n",
    "\n",
    "---\n",
    "\n",
    "### Exercise 47:\n",
    "Write a Python function that takes a list of dictionaries and returns a list of the values for a given key.\n",
    "\n",
    "```python\n",
    "# Exercise 47\n",
    "```\n",
    "\n",
    "---\n",
    "\n",
    "### Exercise 48:\n",
    "Write a Python function that uses a generator to yield the Fibonacci sequence up to `n` terms.\n",
    "\n",
    "```python\n",
    "# Exercise 48\n",
    "```\n",
    "\n",
    "---\n",
    "\n",
    "### Exercise 49:\n",
    "Write a Python function that takes a string and returns a list of all unique characters in the string.\n",
    "\n",
    "```python\n",
    "# Exercise 49\n",
    "```\n",
    "\n",
    "---\n",
    "\n",
    "### Exercise 50:\n",
    "Write a Python function that merges two sorted lists into a single sorted list.\n",
    "\n",
    "```python\n",
    "# Exercise 50\n",
    "```\n",
    "\n",
    "---\n",
    "\n",
    "### Exercise 51:\n",
    "Use the\n",
    "\n",
    " `filter()` function to filter out odd numbers from the list `[1, 2, 3, 4, 5, 6]`.\n",
    "\n",
    "```python\n",
    "# Exercise 51\n",
    "```\n",
    "\n",
    "---\n",
    "\n",
    "### Exercise 52:\n",
    "Write a Python program that converts a list of tuples `[(1, 2), (3, 4), (5, 6)]` into a dictionary.\n",
    "\n",
    "```python\n",
    "# Exercise 52\n",
    "```\n",
    "\n",
    "---\n",
    "\n",
    "### Exercise 53:\n",
    "Write a Python function that takes two sets and returns their symmetric difference.\n",
    "\n",
    "```python\n",
    "# Exercise 53\n",
    "```\n",
    "\n",
    "---\n",
    "\n",
    "### Exercise 54:\n",
    "Write a Python program that finds the common elements in three lists `list1`, `list2`, and `list3`.\n",
    "\n",
    "```python\n",
    "# Exercise 54\n",
    "```\n",
    "\n",
    "---\n",
    "\n",
    "### Exercise 55:\n",
    "Write a Python function that returns the factorial of a number using recursion.\n",
    "\n",
    "```python\n",
    "# Exercise 55\n",
    "```\n",
    "\n",
    "---\n",
    "\n",
    "### Exercise 56:\n",
    "Write a Python program that removes all empty strings from the list `[\"apple\", \"\", \"banana\", \"\", \"cherry\"]`.\n",
    "\n",
    "```python\n",
    "# Exercise 56\n",
    "```\n",
    "\n",
    "---\n",
    "\n",
    "### Exercise 57:\n",
    "Write a Python function that takes a dictionary and returns a new dictionary with the keys and values swapped.\n",
    "\n",
    "```python\n",
    "# Exercise 57\n",
    "```\n",
    "\n",
    "---\n",
    "\n",
    "### Exercise 58:\n",
    "Write a Python function that takes a list of integers and returns a new list with only the even numbers.\n",
    "\n",
    "```python\n",
    "# Exercise 58\n",
    "```\n",
    "\n",
    "---\n",
    "\n",
    "### Exercise 59:\n",
    "Write a Python function that takes a list of tuples and returns a list of the first elements of each tuple.\n",
    "\n",
    "```python\n",
    "# Exercise 59\n",
    "```\n",
    "\n",
    "---\n",
    "\n",
    "### Exercise 60:\n",
    "Write a Python program that removes duplicates from a list without changing the order of elements.\n",
    "\n",
    "```python\n",
    "# Exercise 60\n",
    "```\n",
    "\n",
    "---\n",
    "\n",
    "### Exercise 61:\n",
    "Use the `map()` function to convert a list of strings to a list of their lengths.\n",
    "\n",
    "```python\n",
    "# Exercise 61\n",
    "```\n",
    "\n",
    "---\n",
    "\n",
    "### Exercise 62:\n",
    "Write a Python program that calculates the average of a list of numbers.\n",
    "\n",
    "```python\n",
    "# Exercise 62\n",
    "```\n",
    "\n",
    "---\n",
    "\n",
    "### Exercise 63:\n",
    "Write a Python function that generates a list of the first `n` Fibonacci numbers.\n",
    "\n",
    "```python\n",
    "# Exercise 63\n",
    "```\n",
    "\n",
    "---\n",
    "\n",
    "### Exercise 64:\n",
    "Write a Python program that counts how many times each element appears in the list `[\"apple\", \"banana\", \"apple\", \"cherry\"]`.\n",
    "\n",
    "```python\n",
    "# Exercise 64\n",
    "```\n",
    "\n",
    "---\n",
    "\n",
    "### Exercise 65:\n",
    "Write a Python program that removes all occurrences of a specific value from a list.\n",
    "\n",
    "```python\n",
    "# Exercise 65\n",
    "```\n",
    "\n",
    "---\n",
    "\n",
    "### Exercise 66:\n",
    "Write a Python function that takes a list of strings and returns a list of the strings that start with a vowel.\n",
    "\n",
    "```python\n",
    "# Exercise 66\n",
    "```\n",
    "\n",
    "---\n",
    "\n",
    "### Exercise 67:\n",
    "Write a Python program that finds the intersection of two sets `set1` and `set2`.\n",
    "\n",
    "```python\n",
    "# Exercise 67\n",
    "```\n",
    "\n",
    "---\n",
    "\n",
    "### Exercise 68:\n",
    "Write a Python function that flattens a nested list.\n",
    "\n",
    "```python\n",
    "# Exercise 68\n",
    "```\n",
    "\n",
    "---\n",
    "\n",
    "### Exercise 69:\n",
    "Write a Python program that checks if all the elements in a list are unique.\n",
    "\n",
    "```python\n",
    "# Exercise 69\n",
    "```\n",
    "\n",
    "---\n",
    "\n",
    "### Exercise 70:\n",
    "Use the `reduce()` function from the `functools` module to multiply all elements in a list.\n",
    "\n",
    "```python\n",
    "# Exercise 70\n",
    "```\n",
    "\n",
    "---\n",
    "\n",
    "### Exercise 71:\n",
    "Write a Python function that takes a list of strings and returns a dictionary where keys are strings and values are their lengths.\n",
    "\n",
    "```python\n",
    "# Exercise 71\n",
    "```\n",
    "\n",
    "---\n",
    "\n",
    "### Exercise 72:\n",
    "Write a Python program that counts the number of vowels in a string.\n",
    "\n",
    "```python\n",
    "# Exercise 72\n",
    "```\n",
    "\n",
    "---\n",
    "\n",
    "### Exercise 73:\n",
    "Create a list of tuples where each tuple contains a number from 1 to 5 and its factorial.\n",
    "\n",
    "```python\n",
    "# Exercise 73\n",
    "```\n",
    "\n",
    "---\n",
    "\n",
    "### Exercise 74:\n",
    "Write a Python program that converts a list of dictionaries into a single dictionary by merging them.\n",
    "\n",
    "```python\n",
    "# Exercise 74\n",
    "```\n",
    "\n",
    "---\n",
    "\n",
    "### Exercise 75:\n",
    "Write a Python function that checks if a set is a subset of another set.\n",
    "\n",
    "```python\n",
    "# Exercise 75\n",
    "```\n",
    "\n",
    "---\n",
    "\n",
    "### Exercise 76:\n",
    "Write a Python program that sorts a list of tuples based on the second element in each tuple.\n",
    "\n",
    "```python\n",
    "# Exercise 76\n",
    "```\n",
    "\n",
    "---\n",
    "\n",
    "### Exercise 77:\n",
    "Write a Python function that takes a list of integers and returns a new list with only the positive integers.\n",
    "\n",
    "```python\n",
    "# Exercise 77\n",
    "```\n",
    "\n",
    "---\n",
    "\n",
    "### Exercise 78:\n",
    "Write a Python function that takes two sets and returns their union.\n",
    "\n",
    "```python\n",
    "# Exercise 78\n",
    "```\n",
    "\n",
    "---\n",
    "\n",
    "### Exercise 79:\n",
    "Write a Python function that takes a list of numbers and returns the product of all the numbers.\n",
    "\n",
    "```python\n",
    "# Exercise 79\n",
    "```\n",
    "\n",
    "---\n",
    "\n",
    "### Exercise 80:\n",
    "Write a Python program that converts a list of characters into a string.\n",
    "\n",
    "```python\n",
    "# Exercise 80\n",
    "```\n",
    "\n",
    "---\n",
    "\n",
    "### Exercise 81:\n",
    "Write a Python program that finds the second largest number in a list of integers.\n",
    "\n",
    "```python\n",
    "# Exercise 81\n",
    "```\n",
    "\n",
    "---\n",
    "\n",
    "### Exercise 82:\n",
    "Write a Python function that takes a dictionary and returns a list of its keys in sorted order.\n",
    "\n",
    "```python\n",
    "# Exercise 82\n",
    "```\n",
    "\n",
    "---\n",
    "\n",
    "### Exercise 83:\n",
    "Write a Python program that finds the most common element in a list.\n",
    "\n",
    "```python\n",
    "# Exercise 83\n",
    "```\n",
    "\n",
    "---\n",
    "\n",
    "### Exercise 84:\n",
    "Write a Python function that takes a list of tuples and returns a list of the tuples sorted by the first element.\n",
    "\n",
    "```python\n",
    "# Exercise 84\n",
    "```\n",
    "\n",
    "---\n",
    "\n",
    "### Exercise 85:\n",
    "Write a Python program that removes duplicates from a list of dictionaries.\n",
    "\n",
    "```python\n",
    "# Exercise 85\n",
    "```\n",
    "\n",
    "---\n",
    "\n",
    "### Exercise 86:\n",
    "Write a Python function that takes a list of numbers and returns the minimum and maximum numbers in the list.\n",
    "\n",
    "```python\n",
    "# Exercise 86\n",
    "```\n",
    "\n",
    "---\n",
    "\n",
    "### Exercise 87:\n",
    "Write a Python program that creates a list of tuples from two lists.\n",
    "\n",
    "```python\n",
    "# Exercise 87\n",
    "```\n",
    "\n",
    "---\n",
    "\n",
    "### Exercise 88:\n",
    "Write a Python function that takes a list of strings and returns a list of the strings in reverse order.\n",
    "\n",
    "```python\n",
    "# Exercise 88\n",
    "```\n",
    "\n",
    "---\n",
    "\n",
    "### Exercise 89:\n",
    "Write a Python function that takes a list of integers and returns the sum of all odd numbers.\n",
    "\n",
    "```python\n",
    "# Exercise 89\n",
    "```\n",
    "\n",
    "---\n",
    "\n",
    "### Exercise 90:\n",
    "Write a Python program that checks if a string is a palindrome.\n",
    "\n",
    "```python\n",
    "# Exercise 90\n",
    "```\n",
    "\n",
    "---\n",
    "\n",
    "### Exercise 91:\n",
    "Write a Python program that finds the median of a list of numbers.\n",
    "\n",
    "```python\n",
    "# Exercise 91\n",
    "```\n",
    "\n",
    "---\n",
    "\n",
    "### Exercise 92:\n",
    "Write a Python function that takes a list of dictionaries and returns a dictionary with the total value for each key.\n",
    "\n",
    "```python\n",
    "# Exercise 92\n",
    "```\n",
    "\n",
    "---\n",
    "\n",
    "### Exercise 93:\n",
    "Write a Python program that calculates the mode of a list of numbers.\n",
    "\n",
    "```python\n",
    "# Exercise 93\n",
    "```\n",
    "\n",
    "---\n",
    "\n",
    "### Exercise 94:\n",
    "Write a Python function that takes a list of numbers and returns the sum of the squares of all the numbers.\n",
    "\n",
    "```python\n",
    "# Exercise 94\n",
    "```\n",
    "\n",
    "---\n",
    "\n",
    "### Exercise 95:\n",
    "Write a Python program that creates a list of tuples, where each tuple contains a number and its cube for numbers from 1 to 5.\n",
    "\n",
    "```python\n",
    "# Exercise 95\n",
    "```\n",
    "\n",
    "---\n",
    "\n",
    "### Exercise 96:\n",
    "Write a Python function that returns a list of all prime numbers up to `n`.\n",
    "\n",
    "```python\n",
    "# Exercise 96\n",
    "```\n",
    "\n",
    "---\n",
    "\n",
    "### Exercise 97:\n",
    "Write a Python program that finds the common keys between two dictionaries.\n",
    "\n",
    "```python\n",
    "# Exercise 97\n",
    "```\n",
    "\n",
    "---\n",
    "\n",
    "### Exercise 98:\n",
    "Write a Python function that takes a list of strings and returns a list of the strings that contain more than 5 characters.\n",
    "\n",
    "```python\n",
    "# Exercise 98\n",
    "```\n",
    "\n",
    "---\n",
    "\n",
    "### Exercise 99:\n",
    "Write a Python program that converts a list of strings into a list of tuples, where each tuple contains the string and its length.\n",
    "\n",
    "```python\n",
    "# Exercise 99\n",
    "```\n",
    "\n",
    "---\n",
    "\n",
    "### Exercise 100:\n",
    "Write a Python function that takes a list of dictionaries and returns a new dictionary by summing the values of each key across all dictionaries.\n",
    "\n",
    "```python\n",
    "# Exercise 100\n",
    "```\n",
    "\n",
    "---\n"
   ]
  },
  {
   "cell_type": "code",
   "execution_count": 32,
   "id": "c60146d2",
   "metadata": {},
   "outputs": [
    {
     "name": "stdout",
     "output_type": "stream",
     "text": [
      "[1, 2, 3, 4, 5, 6, 7, 8, 9, 10]\n"
     ]
    }
   ],
   "source": [
    "#Exercise\n",
    "x = list(range(1, 11))\n",
    "print(x)"
   ]
  },
  {
   "cell_type": "code",
   "execution_count": 31,
   "id": "7f5cd9bd",
   "metadata": {},
   "outputs": [
    {
     "data": {
      "text/plain": [
       "tuple"
      ]
     },
     "execution_count": 31,
     "metadata": {},
     "output_type": "execute_result"
    }
   ],
   "source": [
    "#Exercise 2:\n",
    "fruits = (\"apple\", \"banana\", \"cherry\")\n",
    "type(fruits)"
   ]
  },
  {
   "cell_type": "code",
   "execution_count": 41,
   "id": "de71a703",
   "metadata": {},
   "outputs": [
    {
     "data": {
      "text/plain": [
       "tuple"
      ]
     },
     "execution_count": 41,
     "metadata": {},
     "output_type": "execute_result"
    }
   ],
   "source": [
    "#Exercise 3:\n",
    "z =  [10, 20, 30, 40]\n",
    "turple_z = tuple(z)\n",
    "type(turple_z)"
   ]
  },
  {
   "cell_type": "code",
   "execution_count": 25,
   "id": "20c8de6e",
   "metadata": {},
   "outputs": [
    {
     "data": {
      "text/plain": [
       "[1, 2, 3, 4, 5]"
      ]
     },
     "execution_count": 25,
     "metadata": {},
     "output_type": "execute_result"
    }
   ],
   "source": [
    "#Exercise 4:\n",
    "x = list(range(1,6))\n",
    "x"
   ]
  },
  {
   "cell_type": "code",
   "execution_count": 24,
   "id": "c68d884c",
   "metadata": {},
   "outputs": [
    {
     "data": {
      "text/plain": [
       "{'Name': 'Alice', 'Age': '20', 'Grade': 'A'}"
      ]
     },
     "execution_count": 24,
     "metadata": {},
     "output_type": "execute_result"
    }
   ],
   "source": [
    "#Exercise 5:\n",
    "student_details = {\"Name\":\"Alice\", \"Age\":\"20\", \"Grade\":\"A\"}\n",
    "student_details"
   ]
  },
  {
   "cell_type": "code",
   "execution_count": 43,
   "id": "0bf516f1",
   "metadata": {},
   "outputs": [
    {
     "data": {
      "text/plain": [
       "30"
      ]
     },
     "execution_count": 43,
     "metadata": {},
     "output_type": "execute_result"
    }
   ],
   "source": [
    "#Exercise 6:\n",
    "numbers = [10,20,30,40,50]\n",
    "numbers[1]"
   ]
  },
  {
   "cell_type": "code",
   "execution_count": 50,
   "id": "7e8d1c77",
   "metadata": {},
   "outputs": [
    {
     "name": "stdout",
     "output_type": "stream",
     "text": [
      "['apple', 'banana', 'mango', 'orange']\n"
     ]
    }
   ],
   "source": [
    "#Exercise 7:\n",
    "fruits = [\"apple\", \"banana\", \"cherry\", \"orange\"]\n",
    "fruits[2] = \"mango\"\n",
    "print(fruits)"
   ]
  },
  {
   "cell_type": "code",
   "execution_count": 26,
   "id": "ad4146a9",
   "metadata": {},
   "outputs": [
    {
     "data": {
      "text/plain": [
       "{1, 2, 3, 4, 5}"
      ]
     },
     "execution_count": 26,
     "metadata": {},
     "output_type": "execute_result"
    }
   ],
   "source": [
    "#Exercise 8:\n",
    "set_num = {1, 2, 3, 4, 5} \n",
    "set_num"
   ]
  },
  {
   "cell_type": "code",
   "execution_count": 21,
   "id": "c8c833dc",
   "metadata": {},
   "outputs": [
    {
     "data": {
      "text/plain": [
       "{'name': 'John', 'city': 'New York'}"
      ]
     },
     "execution_count": 21,
     "metadata": {},
     "output_type": "execute_result"
    }
   ],
   "source": [
    "#Exercise 9:\n",
    "person = {\"name\": \"John\", \"age\": 25, \"city\": \"New York\"} \n",
    "del person[\"age\"]\n",
    "person"
   ]
  },
  {
   "cell_type": "code",
   "execution_count": 62,
   "id": "e1f013ff",
   "metadata": {},
   "outputs": [
    {
     "data": {
      "text/plain": [
       "[0, 1, 2, 3, 4, 5, 6, 7, 8]"
      ]
     },
     "execution_count": 62,
     "metadata": {},
     "output_type": "execute_result"
    }
   ],
   "source": [
    "#Exercise 10:\n",
    "x = list(range(9))\n",
    "x"
   ]
  },
  {
   "cell_type": "code",
   "execution_count": 48,
   "id": "60633af4",
   "metadata": {},
   "outputs": [
    {
     "data": {
      "text/plain": [
       "[1, 4, 9, 16, 25, 36, 49, 64, 81, 100]"
      ]
     },
     "execution_count": 48,
     "metadata": {},
     "output_type": "execute_result"
    }
   ],
   "source": [
    "#Exercise 11:\n",
    "squares = [x**2 for x in range(1, 11)]\n",
    "squares"
   ]
  },
  {
   "cell_type": "code",
   "execution_count": 27,
   "id": "d6a05ea8",
   "metadata": {},
   "outputs": [
    {
     "data": {
      "text/plain": [
       "(2, 4, 6, 8, 10)"
      ]
     },
     "execution_count": 27,
     "metadata": {},
     "output_type": "execute_result"
    }
   ],
   "source": [
    "#Exercise 12:\n",
    "even = (2,4,6,8,10)\n",
    "even"
   ]
  },
  {
   "cell_type": "code",
   "execution_count": 19,
   "id": "2f1ccde7",
   "metadata": {},
   "outputs": [
    {
     "name": "stdout",
     "output_type": "stream",
     "text": [
      "apple\n",
      "banana\n",
      "cherry\n"
     ]
    }
   ],
   "source": [
    "#Exercise 13:\n",
    "#Use a for loop to iterate through the list fruits = [\"apple\", \"banana\", \"cherry\"] and print each element.\n",
    "fruits = [\"apple\", \"banana\", \"cherry\"]\n",
    "\n",
    "for fruit in fruits:\n",
    "    print(fruit)"
   ]
  },
  {
   "cell_type": "code",
   "execution_count": null,
   "id": "f08cb03a",
   "metadata": {},
   "outputs": [],
   "source": [
    "#Exercise 14:\n",
    "numbers = [10, 20, 30, 40, 50]\n",
    "number_to_check = 30\n",
    "\n",
    "if number_to_check in my_list:\n",
    "    print(f\"{number_to_check} is present in the list.\")\n",
    "else:\n",
    "    print(f\"{number_to_check} is not present in the list.\")\n",
    "Check if the value 3 exists in the set numbers = {1, 2, 3, 4, 5}."
   ]
  },
  {
   "cell_type": "code",
   "execution_count": 40,
   "id": "01b21da2",
   "metadata": {},
   "outputs": [
    {
     "data": {
      "text/plain": [
       "3"
      ]
     },
     "execution_count": 40,
     "metadata": {},
     "output_type": "execute_result"
    }
   ],
   "source": [
    "#Exercise 15:\n",
    "#Use the len() function to find the length of the tuple numbers = (10, 20, 30).\n",
    "numbers = (10, 20, 30)\n",
    "len(numbers)"
   ]
  },
  {
   "cell_type": "code",
   "execution_count": 45,
   "id": "d2aa3f7d",
   "metadata": {},
   "outputs": [
    {
     "data": {
      "text/plain": [
       "[80, 85, 90, 95, 100]"
      ]
     },
     "execution_count": 45,
     "metadata": {},
     "output_type": "execute_result"
    }
   ],
   "source": [
    "#Exercise 16:\n",
    "#Add the value 100 at the end of the list scores = [80, 85, 90, 95].\n",
    "scores = [80, 85, 90, 95]\n",
    "scores.append(100)\n",
    "scores"
   ]
  },
  {
   "cell_type": "code",
   "execution_count": 2,
   "id": "eb354c19",
   "metadata": {},
   "outputs": [
    {
     "name": "stdin",
     "output_type": "stream",
     "text": [
      "Enter numbers separated by spaces:  4 2 2 1 2 4 5 \n"
     ]
    },
    {
     "name": "stdout",
     "output_type": "stream",
     "text": [
      "The sum of all elements is: 20\n"
     ]
    }
   ],
   "source": [
    "#Exercise 17:\n",
    "#Write a function that takes a list as input and returns the sum of all elements in the list.\n",
    "def sum_of_elements(lst):\n",
    "    total = 0\n",
    "    for x in lst:\n",
    "        total += x\n",
    "    return total\n",
    "\n",
    "# Get input from user\n",
    "numbers_str = input(\"Enter numbers separated by spaces: \")\n",
    "numbers_list = [int(x) for x in numbers_str.split()]\n",
    "\n",
    "# Calculate and print the sum\n",
    "result = sum_of_elements(numbers_list)\n",
    "print(f\"The sum of all elements is: {result}\")"
   ]
  },
  {
   "cell_type": "code",
   "execution_count": null,
   "id": "09c7b41a",
   "metadata": {},
   "outputs": [],
   "source": [
    "#Exercise 18:\n",
    "#Create a set containing the unique elements of the list numbers = [1, 2, 2, 3, 4, 4, 5].\n",
    "numbers = {1, 2, 2, 3, 4, 4, 5}"
   ]
  },
  {
   "cell_type": "code",
   "execution_count": 66,
   "id": "976acd4b",
   "metadata": {},
   "outputs": [
    {
     "data": {
      "text/plain": [
       "str"
      ]
     },
     "execution_count": 66,
     "metadata": {},
     "output_type": "execute_result"
    }
   ],
   "source": [
    "#Exercise 19:\n",
    "#Convert the string \"hello\" into a list of characters.\n",
    "string = \"hello\""
   ]
  },
  {
   "cell_type": "code",
   "execution_count": null,
   "id": "b8b86b5b",
   "metadata": {},
   "outputs": [],
   "source": [
    "#Exercise 20:\n",
    "#Write a Python function that reverses a tuple (1, 2, 3, 4).\n",
    "def reverse_tuple(t):\n",
    "    return t[::-1]\n",
    "\n",
    "my_tuple = (1, 2, 3, 4)\n",
    "reversed_tuple = reverse_tuple(my_tuple)\n",
    "print(reversed_tuple)  "
   ]
  },
  {
   "cell_type": "code",
   "execution_count": 61,
   "id": "45205569",
   "metadata": {},
   "outputs": [
    {
     "data": {
      "text/plain": [
       "{'a': 1, 'b': 2, 'c': 3, 'd': 4}"
      ]
     },
     "execution_count": 61,
     "metadata": {},
     "output_type": "execute_result"
    }
   ],
   "source": [
    "#Exercise 21:\n",
    "#Merge two dictionaries dict1 = {\"a\": 1, \"b\": 2} and dict2 = {\"c\": 3, \"d\": 4} into a single dictionary.\n",
    "dict1 = {\"a\": 1, \"b\": 2} \n",
    "dict2 = {\"c\": 3, \"d\": 4}\n",
    "new_dict = dict1 | dict2\n",
    "new_dict"
   ]
  },
  {
   "cell_type": "code",
   "execution_count": 68,
   "id": "f59867dd",
   "metadata": {},
   "outputs": [
    {
     "data": {
      "text/plain": [
       "{1: 1, 2: 4, 3: 9, 4: 16, 5: 25}"
      ]
     },
     "execution_count": 68,
     "metadata": {},
     "output_type": "execute_result"
    }
   ],
   "source": [
    "#Exercise 22:\n",
    "#Create a dictionary where keys are numbers from 1 to 5, and values are their squares.\n",
    "a, b, c, d, e = 1, 2, 3, 4, 5\n",
    "Dict = {a:a**2, b:b**2, c:c**2, d:d**2, e:e**2}\n",
    "Dict"
   ]
  },
  {
   "cell_type": "code",
   "execution_count": 3,
   "id": "8b8f3b44",
   "metadata": {},
   "outputs": [
    {
     "name": "stdout",
     "output_type": "stream",
     "text": [
      "Key: a, Value: 1\n",
      "Key: b, Value: 2\n",
      "Key: c, Value: 3\n",
      "Key: d, Value: 4\n"
     ]
    }
   ],
   "source": [
    "#Exercise 23:\n",
    "#Write a Python program to iterate through a dictionary and print each key-value pair.\n",
    "my_dict = {'a': 1, 'b': 2, 'c': 3, 'd': 4}\n",
    "\n",
    "for key, value in my_dict.items():\n",
    "    print(f\"Key: {key}, Value: {value}\")"
   ]
  },
  {
   "cell_type": "code",
   "execution_count": 4,
   "id": "adb9f088",
   "metadata": {},
   "outputs": [
    {
     "name": "stdout",
     "output_type": "stream",
     "text": [
      "['a', 'b', 'c', 'd', 'e']\n"
     ]
    }
   ],
   "source": [
    "#Exercise 24:\n",
    "#Create a list of the first 5 letters of the alphabet using the chr() function.\n",
    "alphabet_first5 = [chr(i) for i in range(ord('a'), ord('a') + 5)]\n",
    "print(alphabet_first5)"
   ]
  },
  {
   "cell_type": "code",
   "execution_count": 37,
   "id": "be31f672",
   "metadata": {},
   "outputs": [
    {
     "name": "stdout",
     "output_type": "stream",
     "text": [
      "((1, 'a'), (2, 'b'), (3, 'c'))\n"
     ]
    }
   ],
   "source": [
    "#Exercise 25:\n",
    "#Use the zip() function to combine two lists [1, 2, 3] and [\"a\", \"b\", \"c\"] into a list of tuples.\n",
    "lists_1, lists_2 = [1, 2, 3], [\"a\", \"b\", \"c\"]\n",
    "new_list = (zip(lists_1,lists_2))\n",
    "list_of_tuple = tuple(new_list)\n",
    "print(list_of_tuple)"
   ]
  },
  {
   "cell_type": "code",
   "execution_count": 6,
   "id": "1ac8fdeb",
   "metadata": {},
   "outputs": [
    {
     "name": "stdout",
     "output_type": "stream",
     "text": [
      "4\n"
     ]
    }
   ],
   "source": [
    "#Exercise 26:\n",
    "#Find the index of the value 50 in the list [10, 20, 30, 40, 50].\n",
    "list_of_integers = [10, 20, 30, 40, 50]\n",
    "index_50 = list_of_integers.index(50)\n",
    "print(index_50)"
   ]
  },
  {
   "cell_type": "code",
   "execution_count": 69,
   "id": "ba408d8a",
   "metadata": {},
   "outputs": [
    {
     "data": {
      "text/plain": [
       "['Alice', 'Bob', 'Charlie', 'David']"
      ]
     },
     "execution_count": 69,
     "metadata": {},
     "output_type": "execute_result"
    }
   ],
   "source": [
    "#Exercise 27:\n",
    "#Sort the list names = [\"Alice\", \"Bob\", \"Charlie\", \"David\"] in alphabetical order.\n",
    "list_of_names = [\"Alice\", \"Bob\", \"Charlie\", \"David\"]\n",
    "sorted(list_of_names)"
   ]
  },
  {
   "cell_type": "code",
   "execution_count": 7,
   "id": "02576080",
   "metadata": {},
   "outputs": [
    {
     "name": "stdout",
     "output_type": "stream",
     "text": [
      "9\n"
     ]
    }
   ],
   "source": [
    "#Exercise 28:\n",
    "#Write a Python function that takes a list of integers as input and returns the largest number.\n",
    "def largest_number(lst):\n",
    "    return max(lst)\n",
    "\n",
    "numbers = [3, 7, 2, 9, 5]\n",
    "print(largest_number(numbers)) "
   ]
  },
  {
   "cell_type": "code",
   "execution_count": 70,
   "id": "c8271fa1",
   "metadata": {},
   "outputs": [
    {
     "data": {
      "text/plain": [
       "2"
      ]
     },
     "execution_count": 70,
     "metadata": {},
     "output_type": "execute_result"
    }
   ],
   "source": [
    "#Exercise 29:\n",
    "#Use the count() method to count how many times \"apple\" appears in the list fruits = [\"apple\", \"banana\", \"apple\", \"orange\"].\n",
    "fruits = [\"apple\", \"banana\", \"apple\", \"orange\"]\n",
    "fruits.count(\"apple\")"
   ]
  },
  {
   "cell_type": "code",
   "execution_count": 10,
   "id": "e6470be1",
   "metadata": {},
   "outputs": [
    {
     "data": {
      "text/plain": [
       "'new York'"
      ]
     },
     "execution_count": 10,
     "metadata": {},
     "output_type": "execute_result"
    }
   ],
   "source": [
    "#Exercise 30:\n",
    "#Create a dictionary person where keys are \"name\", \"age\", and \"city\", and values are \"Alice\", 25, and \"New York\" respectively. Then access the value of the \"city\" key.\n",
    "person = {\"Name\": \"Alice\", \"Age\":25, \"City\":\"new York\"}\n",
    "person.get(\"City\")"
   ]
  },
  {
   "cell_type": "code",
   "execution_count": 11,
   "id": "fe1f1980",
   "metadata": {},
   "outputs": [
    {
     "name": "stdout",
     "output_type": "stream",
     "text": [
      "[1, 2, 3, 4, 5]\n"
     ]
    }
   ],
   "source": [
    "#Exercise 31:\n",
    "#Write a Python function that takes a list as input and returns a new list with all duplicates removed.\n",
    "def remove_duplicates(lst):\n",
    "    return list(set(lst))\n",
    "\n",
    "numbers = [1, 2, 2, 3, 4, 4, 5]\n",
    "unique_numbers = remove_duplicates(numbers)\n",
    "print(unique_numbers)"
   ]
  },
  {
   "cell_type": "code",
   "execution_count": 13,
   "id": "62d7c0f8",
   "metadata": {},
   "outputs": [
    {
     "name": "stdout",
     "output_type": "stream",
     "text": [
      "[3, 4]\n"
     ]
    }
   ],
   "source": [
    "#Exercise 32:\n",
    "#Write a Python function that takes two lists and returns their intersection.\n",
    "def intersection(list1, list2):\n",
    "    set2 = set(list2)\n",
    "    return [x for x in list1 if x in set2]\n",
    "\n",
    "a = [1, 2, 3, 4]\n",
    "b = [3, 4, 5, 6]\n",
    "print(intersection(a, b))"
   ]
  },
  {
   "cell_type": "code",
   "execution_count": 12,
   "id": "88868355",
   "metadata": {},
   "outputs": [
    {
     "name": "stdout",
     "output_type": "stream",
     "text": [
      "[1, 4, 9, 16, 25, 36, 49, 64, 81, 100]\n"
     ]
    }
   ],
   "source": [
    "#Exercise 33:\n",
    "#Create a generator that yields the squares of numbers from 1 to 10.\n",
    "generator = [x**2 for x in range(1,11)]\n",
    "print(generator)"
   ]
  },
  {
   "cell_type": "code",
   "execution_count": 14,
   "id": "cc26e38b",
   "metadata": {},
   "outputs": [
    {
     "name": "stdout",
     "output_type": "stream",
     "text": [
      "60\n"
     ]
    }
   ],
   "source": [
    "#Exercise 34:\n",
    "#Write a Python function that takes a dictionary as input and returns the sum of all its values.\n",
    "def sum_dict_values(d):\n",
    "    return sum(d.values())\n",
    "\n",
    "my_dict = {'a': 10, 'b': 20, 'c': 30}\n",
    "result = sum_dict_values(my_dict)\n",
    "print(result)"
   ]
  },
  {
   "cell_type": "code",
   "execution_count": 12,
   "id": "ac76b677",
   "metadata": {},
   "outputs": [
    {
     "data": {
      "text/plain": [
       "[1, 1, 3, 4, 5, 9]"
      ]
     },
     "execution_count": 12,
     "metadata": {},
     "output_type": "execute_result"
    }
   ],
   "source": [
    "#Exercise 35:\n",
    "#Use the sorted() function to sort the list [3, 1, 4, 1, 5, 9] in ascending order.\n",
    "list = [3, 1, 4, 1, 5, 9]\n",
    "sorted(list)"
   ]
  },
  {
   "cell_type": "code",
   "execution_count": 15,
   "id": "4663e18c",
   "metadata": {},
   "outputs": [
    {
     "name": "stdout",
     "output_type": "stream",
     "text": [
      "elephant\n"
     ]
    }
   ],
   "source": [
    "#Exercise 36:\n",
    "#Write a Python function that takes a list of strings as input and returns the longest string.\n",
    "def longest_string(lst):\n",
    "    return max(lst, key=len)\n",
    "\n",
    "words = [\"cat\", \"elephant\", \"dog\", \"giraffe\"]\n",
    "print(longest_string(words))"
   ]
  },
  {
   "cell_type": "code",
   "execution_count": 89,
   "id": "384f0399",
   "metadata": {},
   "outputs": [
    {
     "data": {
      "text/plain": [
       "True"
      ]
     },
     "execution_count": 89,
     "metadata": {},
     "output_type": "execute_result"
    }
   ],
   "source": [
    "#Exercise 37:\n",
    "#Check if all the elements in the list [1, 2, 3, 4, 5] are greater than 0 using the all() function.\n",
    "list_ = [1, 2, 3, 4, 5]\n",
    "all(list_)"
   ]
  },
  {
   "cell_type": "code",
   "execution_count": 92,
   "id": "d41c1119",
   "metadata": {},
   "outputs": [
    {
     "data": {
      "text/plain": [
       "([2, 4], [4, 16], [4, 16], [9, 81])"
      ]
     },
     "execution_count": 92,
     "metadata": {},
     "output_type": "execute_result"
    }
   ],
   "source": [
    "#Exercise 38:\n",
    "#Create a list of tuples where each tuple contains a number and its square for numbers from 1 to 5.\n",
    "a, b, c, d = 2, 4, 4, 9\n",
    "list_of_tuple = ([a,a**2],[b,b**2],[c,c**2],[d,d**2])\n",
    "list_of_tuple"
   ]
  },
  {
   "cell_type": "code",
   "execution_count": 96,
   "id": "51b647cf",
   "metadata": {},
   "outputs": [
    {
     "data": {
      "text/plain": [
       "[9, 81]"
      ]
     },
     "execution_count": 96,
     "metadata": {},
     "output_type": "execute_result"
    }
   ],
   "source": [
    "#Exercise 39:\n",
    "#Write a Python function that takes a list of tuples and returns a list of the second elements from each tuple.\n",
    "a, b, c, d = 2, 4, 4, 9\n",
    "list_of_tuple = ([a,a**2],[b,b**2],[c,c**2],[d,d**2])\n",
    "list_of_tuple[3]"
   ]
  },
  {
   "cell_type": "code",
   "execution_count": 16,
   "id": "d9faab07",
   "metadata": {},
   "outputs": [
    {
     "name": "stdout",
     "output_type": "stream",
     "text": [
      "[1, 2, 3, 4, 5]\n"
     ]
    }
   ],
   "source": [
    "#Exercise 40:\n",
    "#Write a Python function that flattens a list of lists into a single list.\n",
    "def flatten(list_of_lists):\n",
    "    flat_list = []\n",
    "    for sublist in list_of_lists:\n",
    "        flat_list.extend(sublist)\n",
    "    return flat_list\n",
    "nested = [[1, 2], [3, 4], [5]]\n",
    "print(flatten(nested))"
   ]
  },
  {
   "cell_type": "code",
   "execution_count": 111,
   "id": "55e95f05",
   "metadata": {},
   "outputs": [
    {
     "name": "stdout",
     "output_type": "stream",
     "text": [
      "Index:0, item is apple\n",
      "Index:1, item is banana\n",
      "Index:2, item is cherry\n"
     ]
    }
   ],
   "source": [
    "#Exercise 41:\n",
    "#Use the enumerate() function to iterate through the list [\"apple\", \"banana\", \"cherry\"] and print the index and value.\n",
    "fruits = [\"apple\", \"banana\", \"cherry\"]\n",
    "for index, item in enumerate(fruits):\n",
    "    print(f\"Index:{index}, item is {item}\")"
   ]
  },
  {
   "cell_type": "code",
   "execution_count": 18,
   "id": "bc140ccd",
   "metadata": {},
   "outputs": [
    {
     "name": "stdout",
     "output_type": "stream",
     "text": [
      "True\n"
     ]
    }
   ],
   "source": [
    "#Exercise 42:\n",
    "#Write a Python program that checks if a tuple is empty.\n",
    "def is_empty_tuple(t):\n",
    "    return len(t) == 0\n",
    "t1 = ()\n",
    "\n",
    "print(is_empty_tuple(t1))\n"
   ]
  },
  {
   "cell_type": "code",
   "execution_count": 5,
   "id": "78f01fe7",
   "metadata": {},
   "outputs": [
    {
     "name": "stdout",
     "output_type": "stream",
     "text": [
      "[2, 4, 6, 8, 10, 12, 14, 16, 18, 20]\n"
     ]
    }
   ],
   "source": [
    "#Exercise 43:\n",
    "#Create a list of even numbers between 1 and 20 using the range() function.\n",
    "list_of_even = list(range(2,21,2))\n",
    "print(list_of_even)"
   ]
  },
  {
   "cell_type": "code",
   "execution_count": 20,
   "id": "fc155da2",
   "metadata": {},
   "outputs": [
    {
     "name": "stdin",
     "output_type": "stream",
     "text": [
      "Enter numbers separated by spaces:  1 2 3 4 5 6\n"
     ]
    },
    {
     "name": "stdout",
     "output_type": "stream",
     "text": [
      "[6, 5, 4, 3, 2, 1]\n"
     ]
    }
   ],
   "source": [
    "#Exercise 44:\n",
    "#Write a Python function that takes a list of numbers as input and returns the list in reverse order.\n",
    "def reverse_list(lst):\n",
    "    return lst[::-1]\n",
    "\n",
    "numbers_str = input(\"Enter numbers separated by spaces: \")\n",
    "list_of_numbers = [int(x) for x in numbers_str.split()]\n",
    "\n",
    "reversed_list = reverse_list(list_of_numbers)\n",
    "print(reversed_list)"
   ]
  },
  {
   "cell_type": "code",
   "execution_count": 148,
   "id": "733751a9",
   "metadata": {},
   "outputs": [
    {
     "data": {
      "text/plain": [
       "{'a': 1, 'b': 8, 'c': 27, 'd': 64, 'e': 125}"
      ]
     },
     "execution_count": 148,
     "metadata": {},
     "output_type": "execute_result"
    }
   ],
   "source": [
    "#Exercise 45:\n",
    "#Create a dictionary comprehension that maps numbers from 1 to 5 to their cubes.\n",
    "a, b, c, d, e = 1, 2, 3, 4, 5\n",
    "Dictionary = {\"a\":a**3, \"b\":b**3, \"c\":c**3, \"d\":d**3, \"e\":e**3}\n",
    "Dictionary"
   ]
  },
  {
   "cell_type": "code",
   "execution_count": 19,
   "id": "c6422ebe",
   "metadata": {},
   "outputs": [
    {
     "data": {
      "text/plain": [
       "[1, 2, 2, 3, 4, 4, 5]"
      ]
     },
     "execution_count": 19,
     "metadata": {},
     "output_type": "execute_result"
    }
   ],
   "source": [
    "#Exercise 46:\n",
    "#Write a Python program that creates a new list containing only the unique elements of the list [1, 2, 2, 3, 4, 4, 5].\n",
    "unique_elements = [1, 2, 2, 3, 4, 4, 5]\n",
    "new_list = sorted(unique_elements)\n",
    "new_list"
   ]
  },
  {
   "cell_type": "code",
   "execution_count": 25,
   "id": "6b11b57d",
   "metadata": {},
   "outputs": [],
   "source": [
    "#Exercise 47:\n",
    "#Write a Python function that takes a list of dictionaries and returns a list of the values for a given key.\n",
    "def list_of_dict(D):\n",
    "    return list_of_dict.key()\n",
    "D = {\"a\":3, \"b\":3, \"c\":3, \"d\":3, \"e\":3}"
   ]
  },
  {
   "cell_type": "code",
   "execution_count": 22,
   "id": "f2dbc746",
   "metadata": {},
   "outputs": [
    {
     "name": "stdout",
     "output_type": "stream",
     "text": [
      "0 1 1 2 3 5 8 13 21 34 "
     ]
    }
   ],
   "source": [
    "#Exercise 48:\n",
    "#Write a Python function that uses a generator to yield the Fibonacci sequence up to n terms.\n",
    "def fibonacci_generator(n):\n",
    "    a, b = 0, 1\n",
    "    count = 0\n",
    "    while count < n:\n",
    "        yield a\n",
    "        a, b = b, a + b\n",
    "        count += 1\n",
    "\n",
    "for num in fibonacci_generator(10):\n",
    "    print(num, end=\" \")"
   ]
  },
  {
   "cell_type": "code",
   "execution_count": 23,
   "id": "f0a5aa51",
   "metadata": {},
   "outputs": [
    {
     "name": "stdout",
     "output_type": "stream",
     "text": [
      "['a', 'n', 'b']\n"
     ]
    }
   ],
   "source": [
    "#Exercise 49:\n",
    "#Write a Python function that takes a string and returns a list of all unique characters in the string.\n",
    "def unique_characters(s):\n",
    "    return list(set(s))\n",
    "\n",
    "# Example usage:\n",
    "text = \"banana\"\n",
    "print(unique_characters(text))  # Output: ['b', 'n', 'a'] "
   ]
  },
  {
   "cell_type": "code",
   "execution_count": 24,
   "id": "7aa7e682",
   "metadata": {},
   "outputs": [
    {
     "name": "stdout",
     "output_type": "stream",
     "text": [
      "['b', 'a', 'n']\n"
     ]
    }
   ],
   "source": [
    "#Exercise 50:\n",
    "#Write a Python function that merges two sorted lists into a single sorted list.\n",
    "def unique_characters(s):\n",
    "    seen = set()\n",
    "    result = []\n",
    "    for c in s:\n",
    "        if c not in seen:\n",
    "            seen.add(c)\n",
    "            result.append(c)\n",
    "    return result\n",
    "\n",
    "print(unique_characters(\"banana\"))  "
   ]
  },
  {
   "cell_type": "code",
   "execution_count": 26,
   "id": "edaadab7",
   "metadata": {},
   "outputs": [
    {
     "name": "stdout",
     "output_type": "stream",
     "text": [
      "[2, 4, 6]\n"
     ]
    }
   ],
   "source": [
    "#Exercise 51:\n",
    "#Use the filter() function to filter out odd numbers from the list [1, 2, 3, 4, 5, 6].\n",
    "list_of_numb = [1, 2, 3, 4, 5, 6]\n",
    "even_numbers = list(filter(lambda x: x % 2 == 0, list_of_numb))\n",
    "print(even_numbers)  "
   ]
  },
  {
   "cell_type": "code",
   "execution_count": 74,
   "id": "9e37934c",
   "metadata": {},
   "outputs": [
    {
     "name": "stdout",
     "output_type": "stream",
     "text": [
      "{1: 2, 3: 4, 5: 6}\n"
     ]
    }
   ],
   "source": [
    "#Exercise 52:\n",
    "#Write a Python program that converts a list of tuples [(1, 2), (3, 4), (5, 6)] into a dictionary.\n",
    "list_ = [(1, 2), (3, 4), (5, 6)]\n",
    "Dictionary = dict(list_)\n",
    "print(Dictionary)"
   ]
  },
  {
   "cell_type": "code",
   "execution_count": 27,
   "id": "df17ce61",
   "metadata": {},
   "outputs": [
    {
     "name": "stdout",
     "output_type": "stream",
     "text": [
      "{1, 2, 5, 6}\n"
     ]
    }
   ],
   "source": [
    "#Exercise 53:\n",
    "#Write a Python function that takes two sets and returns their symmetric difference.\n",
    "def symmetric_difference(set1, set2):\n",
    "    return set1 ^ set2  # Or: set1.symmetric_difference(set2)\n",
    "\n",
    "a = {1, 2, 3, 4}\n",
    "b = {3, 4, 5, 6}\n",
    "print(symmetric_difference(a, b))"
   ]
  },
  {
   "cell_type": "code",
   "execution_count": 28,
   "id": "85141756",
   "metadata": {},
   "outputs": [
    {
     "name": "stdout",
     "output_type": "stream",
     "text": [
      "[5]\n"
     ]
    }
   ],
   "source": [
    "#Exercise 54:\n",
    "#Write a Python program that finds the common elements in three lists list1, list2, and list3.\n",
    "def common_elements(list1, list2, list3):\n",
    "    return list(set(list1) & set(list2) & set(list3))\n",
    "\n",
    "list1 = [1, 2, 3, 4, 5]\n",
    "list2 = [3, 4, 5, 6, 7]\n",
    "list3 = [5, 6, 7, 8, 9]\n",
    "print(common_elements(list1, list2, list3))"
   ]
  },
  {
   "cell_type": "code",
   "execution_count": null,
   "id": "dce54fea",
   "metadata": {},
   "outputs": [],
   "source": [
    "#Exercise 55:\n",
    "#Write a Python function that returns the factorial of a number using recursion.\n",
    "def factorial(n):\n",
    "    if n == 0 or n == 1:\n",
    "        return 1\n",
    "    else:\n",
    "        return n * factorial(n - 1)\n",
    "num = 5\n",
    "print(\"Factorial of\", num, \"is\", factorial(num))"
   ]
  },
  {
   "cell_type": "code",
   "execution_count": 85,
   "id": "6a7da955",
   "metadata": {},
   "outputs": [
    {
     "data": {
      "text/plain": [
       "['apple', 'banana', '', 'cherry']"
      ]
     },
     "execution_count": 85,
     "metadata": {},
     "output_type": "execute_result"
    }
   ],
   "source": [
    "#Exercise 56:\n",
    "#Write a Python program that removes all empty strings from the list [\"apple\", \"\", \"banana\", \"\", \"cherry\"].\n",
    "list = [\"apple\", \"\", \"banana\", \"\", \"cherry\"]\n",
    "list.remove(\"\")\n",
    "list"
   ]
  },
  {
   "cell_type": "code",
   "execution_count": 28,
   "id": "a27f2a07",
   "metadata": {},
   "outputs": [
    {
     "name": "stdout",
     "output_type": "stream",
     "text": [
      "[3, 5]\n"
     ]
    }
   ],
   "source": [
    "#Exercise 57:\n",
    "#Write a Python function that takes a dictionary and returns a new dictionary with the keys and values swapped.\n",
    "list1 = [1, 2, 3, 4, 5]\n",
    "list2 = [2, 3, 5, 7, 11]\n",
    "list3 = [1, 3, 5, 9, 13]\n",
    "\n",
    "common_elements = list(set(list1) & set(list2) & set(list3))\n",
    "print(common_elements)"
   ]
  },
  {
   "cell_type": "code",
   "execution_count": 30,
   "id": "ef5a0ff5",
   "metadata": {},
   "outputs": [
    {
     "name": "stdout",
     "output_type": "stream",
     "text": [
      "{1: 'a', 2: 'b', 3: 'c'}\n"
     ]
    }
   ],
   "source": [
    "#Exercise 57:\n",
    "#Write a Python function that takes a dictionary and returns a new dictionary with the keys and values swapped.\n",
    "def swap_keys_values(d):\n",
    "    return {v: k for k, v in d.items()}\n",
    "\n",
    "dict_1 = {'a': 1, 'b': 2, 'c': 3}\n",
    "new_dict = swap_keys_values(dict_1)\n",
    "print(new_dict) "
   ]
  },
  {
   "cell_type": "code",
   "execution_count": 31,
   "id": "137683fd",
   "metadata": {},
   "outputs": [
    {
     "name": "stdout",
     "output_type": "stream",
     "text": [
      "[2, 4, 6]\n"
     ]
    }
   ],
   "source": [
    "#Exercise 58:\n",
    "#Write a Python function that takes a list of integers and returns a new list with only the even numbers.\n",
    "def even_numbers(lst):\n",
    "    return [x for x in lst if x % 2 == 0]\n",
    "\n",
    "numbers = [1, 2, 3, 4, 5, 6]\n",
    "print(even_numbers(numbers))"
   ]
  },
  {
   "cell_type": "code",
   "execution_count": 32,
   "id": "2cf5135e",
   "metadata": {},
   "outputs": [
    {
     "name": "stdout",
     "output_type": "stream",
     "text": [
      "[1, 2, 3]\n"
     ]
    }
   ],
   "source": [
    "#Exercise 59:\n",
    "#Write a Python function that takes a list of tuples and returns a list of the first elements of each tuple.\n",
    "def first_elements(tuples_list):\n",
    "    return [t[0] for t in tuples_list]\n",
    "\n",
    "tuple_list = [(1, 'a'), (2, 'b'), (3, 'c')]\n",
    "print(first_elements(tuple_list))  "
   ]
  },
  {
   "cell_type": "code",
   "execution_count": 33,
   "id": "fecbf631",
   "metadata": {},
   "outputs": [
    {
     "name": "stdout",
     "output_type": "stream",
     "text": [
      "[1, 2, 3, 4, 5]\n"
     ]
    }
   ],
   "source": [
    "#Exercise 60:\n",
    "#Write a Python program that removes duplicates from a list without changing the order of elements.\n",
    "def remove_duplicates(lst):\n",
    "    seen = set()\n",
    "    result = []\n",
    "    for x in lst:\n",
    "        if x not in seen:\n",
    "            seen.add(x)\n",
    "            result.append(x)\n",
    "    return result\n",
    "\n",
    "numbers = [1, 2, 2, 3, 4, 3, 5, 1]\n",
    "print(remove_duplicates(numbers))"
   ]
  },
  {
   "cell_type": "code",
   "execution_count": 34,
   "id": "b4170954",
   "metadata": {},
   "outputs": [
    {
     "name": "stdout",
     "output_type": "stream",
     "text": [
      "[5, 6, 4]\n"
     ]
    }
   ],
   "source": [
    "#Exercise 61:\n",
    "#Use the map() function to convert a list of strings to a list of their lengths.\n",
    "words = [\"apple\", \"banana\", \"kiwi\"]\n",
    "lengths = list(map(len, words))\n",
    "print(lengths)  "
   ]
  },
  {
   "cell_type": "code",
   "execution_count": 36,
   "id": "fc83fa37",
   "metadata": {},
   "outputs": [
    {
     "name": "stdout",
     "output_type": "stream",
     "text": [
      "6.0\n"
     ]
    }
   ],
   "source": [
    "#Exercise 62:\n",
    "#Write a Python program that calculates the average of a list of numbers.\n",
    "def average(lst):\n",
    "    return sum(lst) / len(lst) if lst else 0\n",
    "\n",
    "numbers = [2, 4, 6, 8, 10]\n",
    "print(average(numbers))"
   ]
  },
  {
   "cell_type": "code",
   "execution_count": 38,
   "id": "5751c50b",
   "metadata": {},
   "outputs": [
    {
     "name": "stdout",
     "output_type": "stream",
     "text": [
      "[0, 1, 1, 2, 3, 5, 8, 13, 21, 34]\n"
     ]
    }
   ],
   "source": [
    "#Exercise 63:\n",
    "#Write a Python function that generates a list of the first n Fibonacci numbers.\n",
    "def fibonacci_list(n):\n",
    "    fibs = []\n",
    "    a, b = 0, 1\n",
    "    for _ in range(n):\n",
    "        fibs.append(a)\n",
    "        a, b = b, a + b\n",
    "    return fibs\n",
    "\n",
    "print(fibonacci_list(10))"
   ]
  },
  {
   "cell_type": "code",
   "execution_count": 39,
   "id": "8b34bc1c",
   "metadata": {},
   "outputs": [
    {
     "name": "stdout",
     "output_type": "stream",
     "text": [
      "{'banana': 1, 'apple': 2, 'cherry': 1}\n"
     ]
    }
   ],
   "source": [
    "#Exercise 64:\n",
    "#Write a Python program that counts how many times each element appears in the list [\"apple\", \"banana\", \"apple\", \"cherry\"].\n",
    "fruits = [\"apple\", \"banana\", \"apple\", \"cherry\"]\n",
    "\n",
    "counts = {item: fruits.count(item) for item in set(fruits)}\n",
    "print(counts)  "
   ]
  },
  {
   "cell_type": "code",
   "execution_count": 40,
   "id": "7588bbc0",
   "metadata": {},
   "outputs": [
    {
     "name": "stdout",
     "output_type": "stream",
     "text": [
      "[1, 3, 4, 5]\n"
     ]
    }
   ],
   "source": [
    "#Exercise 65:\n",
    "#Write a Python program that removes all occurrences of a specific value from a list.\n",
    "def remove_all_occurrences(lst, value):\n",
    "    return [x for x in lst if x != value]\n",
    "\n",
    "numbers = [1, 2, 3, 2, 4, 2, 5]\n",
    "result = remove_all_occurrences(numbers, 2)\n",
    "print(result)"
   ]
  },
  {
   "cell_type": "code",
   "execution_count": 16,
   "id": "3709e9da",
   "metadata": {},
   "outputs": [
    {
     "name": "stdout",
     "output_type": "stream",
     "text": [
      "['apple', 'orange', 'umbrella']\n"
     ]
    }
   ],
   "source": [
    "#Exercise 66:\n",
    "#Write a Python function that takes a list of strings and returns a list of the strings that start with a vowel.\n",
    "def strings_starting_with_vowel(lst):\n",
    "    vowels = ('a', 'e', 'i', 'o', 'u')\n",
    "    return [s for s in lst if s and s[0].lower() in vowels]\n",
    "\n",
    "words = [\"apple\", \"banana\", \"orange\", \"grape\", \"umbrella\"]\n",
    "print(strings_starting_with_vowel(words))"
   ]
  },
  {
   "cell_type": "code",
   "execution_count": 17,
   "id": "da21d376",
   "metadata": {},
   "outputs": [
    {
     "name": "stdout",
     "output_type": "stream",
     "text": [
      "{4, 5}\n"
     ]
    }
   ],
   "source": [
    "#Exercise 67:\n",
    "#Write a Python program that finds the intersection of two sets set1 and set2.\n",
    "def find_intersection(set1, set2):\n",
    "    return set1.intersection(set2)\n",
    "\n",
    "set1 = {1, 2, 3, 4, 5}\n",
    "set2 = {4, 5, 6, 7, 8}\n",
    "print(find_intersection(set1, set2))"
   ]
  },
  {
   "cell_type": "code",
   "execution_count": 42,
   "id": "0c1b6666",
   "metadata": {},
   "outputs": [
    {
     "name": "stdout",
     "output_type": "stream",
     "text": [
      "[1, 2, 3, 4, 5, 6]\n"
     ]
    }
   ],
   "source": [
    "#Exercise 68:\n",
    "#Write a Python function that flattens a nested list.\n",
    "def flatten_nested_list(nested_list):\n",
    "    flat_list = []\n",
    "    for item in nested_list:\n",
    "        if isinstance(item, list):\n",
    "            flat_list.extend(flatten_nested_list(item))\n",
    "        else:\n",
    "            flat_list.append(item)\n",
    "    return flat_list\n",
    "nested = [1, [2, [3, 4], 5], 6]\n",
    "print(flatten_nested_list(nested))"
   ]
  },
  {
   "cell_type": "code",
   "execution_count": 43,
   "id": "55498c95",
   "metadata": {},
   "outputs": [
    {
     "name": "stdout",
     "output_type": "stream",
     "text": [
      "True\n",
      "False\n"
     ]
    }
   ],
   "source": [
    "#Exercise 69:\n",
    "#Write a Python program that checks if all the elements in a list are unique.\n",
    "def all_unique(lst):\n",
    "    return len(lst) == len(set(lst))\n",
    "\n",
    "numbers = [1, 2, 3, 4, 5]\n",
    "print(all_unique(numbers)) \n",
    "\n",
    "numbers2 = [1, 2, 2, 3]\n",
    "print(all_unique(numbers2))  "
   ]
  },
  {
   "cell_type": "code",
   "execution_count": 44,
   "id": "39e58a5b",
   "metadata": {},
   "outputs": [
    {
     "name": "stdout",
     "output_type": "stream",
     "text": [
      "120\n"
     ]
    }
   ],
   "source": [
    "#Exercise 70:\n",
    "#Use the reduce() function from the functools module to multiply all elements in a list.\n",
    "from functools import reduce\n",
    "from operator import mul\n",
    "\n",
    "def multiply_list_elements(lst):\n",
    "    return reduce(mul, lst)\n",
    "\n",
    "numbers = [2, 3, 4, 5]\n",
    "print(multiply_list_elements(numbers))"
   ]
  },
  {
   "cell_type": "code",
   "execution_count": 47,
   "id": "68ee5eee",
   "metadata": {},
   "outputs": [
    {
     "name": "stdout",
     "output_type": "stream",
     "text": [
      "{'apple': 5, 'banana': 6, 'cherry': 6}\n"
     ]
    }
   ],
   "source": [
    "#Exercise 71:\n",
    "#Write a Python function that takes a list of strings and returns a dictionary where keys are strings and values are their lengths.\n",
    "def strings_to_length_dict(strings):\n",
    "    return {s: len(s) for s in strings}\n",
    "\n",
    "words = [\"apple\", \"banana\", \"cherry\"]\n",
    "print(strings_to_length_dict(words))  "
   ]
  },
  {
   "cell_type": "code",
   "execution_count": 48,
   "id": "f8875092",
   "metadata": {},
   "outputs": [
    {
     "name": "stdout",
     "output_type": "stream",
     "text": [
      "Number of vowels: 3\n"
     ]
    }
   ],
   "source": [
    "#Exercise 72:\n",
    "#Write a Python program that counts the number of vowels in a string.\n",
    "def count_vowels(text):\n",
    "    vowels = \"aeiouAEIOU\"\n",
    "    count = 0\n",
    "    for char in text:\n",
    "        if char in vowels:\n",
    "            count += 1\n",
    "    return count\n",
    "\n",
    "string = \"Hello World\"\n",
    "print(\"Number of vowels:\", count_vowels(string))  "
   ]
  },
  {
   "cell_type": "code",
   "execution_count": 49,
   "id": "9523fde4",
   "metadata": {},
   "outputs": [
    {
     "name": "stdout",
     "output_type": "stream",
     "text": [
      "[(1, 1), (2, 2), (3, 6), (4, 24), (5, 120)]\n"
     ]
    }
   ],
   "source": [
    "#Exercise 73:\n",
    "#Create a list of tuples where each tuple contains a number from 1 to 5 and its factorial.\n",
    "import math\n",
    "factorials = [(n, math.factorial(n)) for n in range(1, 6)]\n",
    "print(factorials)"
   ]
  },
  {
   "cell_type": "code",
   "execution_count": 50,
   "id": "23fa76e8",
   "metadata": {},
   "outputs": [
    {
     "name": "stdout",
     "output_type": "stream",
     "text": [
      "{'a': 4, 'b': 2, 'c': 3}\n"
     ]
    }
   ],
   "source": [
    "#Exercise 74:\n",
    "#Write a Python program that converts a list of dictionaries into a single dictionary by merging them.\n",
    "def merge_dicts(dict_list):\n",
    "    merged = {}\n",
    "    for d in dict_list:\n",
    "        merged.update(d)\n",
    "    return merged\n",
    "\n",
    "dicts = [{'a': 1}, {'b': 2}, {'c': 3}, {'a': 4}]\n",
    "print(merge_dicts(dicts))"
   ]
  },
  {
   "cell_type": "code",
   "execution_count": 51,
   "id": "228a4e7a",
   "metadata": {},
   "outputs": [
    {
     "name": "stdout",
     "output_type": "stream",
     "text": [
      "True\n"
     ]
    }
   ],
   "source": [
    "#Exercise 75:\n",
    "#Write a Python function that checks if a set is a subset of another set.\n",
    "def is_subset(set_a, set_b):\n",
    "    return set_a.issubset(set_b)\n",
    "A = {2, 2, 3}\n",
    "B = {1, 2, 3, 4, 5}\n",
    "print(is_subset(A, B))"
   ]
  },
  {
   "cell_type": "code",
   "execution_count": 52,
   "id": "544ba9b3",
   "metadata": {},
   "outputs": [
    {
     "name": "stdout",
     "output_type": "stream",
     "text": [
      "[(4, 1), (2, 2), (1, 3)]\n"
     ]
    }
   ],
   "source": [
    "#Exercise 76:\n",
    "#Write a Python program that sorts a list of tuples based on the second element in each tuple.\n",
    "def sort_by_second_element(tuples_list):\n",
    "    return sorted(tuples_list, key=lambda x: x[1])\n",
    "\n",
    "data = [(1, 3), (4, 1), (2, 2)]\n",
    "sorted_data = sort_by_second_element(data)\n",
    "print(sorted_data)  "
   ]
  },
  {
   "cell_type": "code",
   "execution_count": 1,
   "id": "07111b0b",
   "metadata": {},
   "outputs": [],
   "source": [
    "#Exercise 77:\n",
    "#Write a Python function that takes a list of integers and returns a new list with only the positive integers.\n",
    "def get_positive_numbers(numbers):\n",
    "    return list(filter(lambda x: x > 0, numbers))\n"
   ]
  },
  {
   "cell_type": "code",
   "execution_count": null,
   "id": "9db31f55",
   "metadata": {},
   "outputs": [],
   "source": [
    "#Exercise 78:\n",
    "#Write a Python function that takes two sets and returns their union.\n",
    "def union_sets(set1, set2):\n",
    "    return set1.union(set2)"
   ]
  },
  {
   "cell_type": "code",
   "execution_count": 2,
   "id": "26dcee02",
   "metadata": {},
   "outputs": [
    {
     "name": "stdout",
     "output_type": "stream",
     "text": [
      "24\n"
     ]
    }
   ],
   "source": [
    "#Exercise 79:\n",
    "#Write a Python function that takes a list of numbers and returns the product of all the numbers.\n",
    "def product_of_list(numbers):\n",
    "    product = 1\n",
    "    for num in numbers:\n",
    "        product *= num\n",
    "    return product\n",
    "\n",
    "print(product_of_list([2, 3, 4]))"
   ]
  },
  {
   "cell_type": "code",
   "execution_count": 3,
   "id": "f695b360",
   "metadata": {},
   "outputs": [
    {
     "name": "stdout",
     "output_type": "stream",
     "text": [
      "Hello\n"
     ]
    }
   ],
   "source": [
    "#Exercise 80:\n",
    "#Write a Python program that converts a list of characters into a string.\n",
    "def list_to_string(char_list):\n",
    "    return ''.join(char_list)\n",
    "\n",
    "chars = ['H', 'e', 'l', 'l', 'o']\n",
    "result = list_to_string(chars)\n",
    "print(result)"
   ]
  },
  {
   "cell_type": "code",
   "execution_count": 4,
   "id": "373069cf",
   "metadata": {},
   "outputs": [
    {
     "name": "stdout",
     "output_type": "stream",
     "text": [
      "[(1, 'a'), (2, 'b'), (3, 'c')]\n"
     ]
    }
   ],
   "source": [
    "#Exercise 84:\n",
    "#Write a Python function that takes a list of tuples and returns a list of the tuples sorted by the first element.\n",
    "def sort_tuples_by_first_element(tuples_list):\n",
    "    return sorted(tuples_list, key=lambda x: x[0])\n",
    "\n",
    "tuples_data = [(3, 'c'), (1, 'a'), (2, 'b')]\n",
    "print(sort_tuples_by_first_element(tuples_data))\n"
   ]
  },
  {
   "cell_type": "code",
   "execution_count": 29,
   "id": "23031651",
   "metadata": {},
   "outputs": [
    {
     "name": "stdout",
     "output_type": "stream",
     "text": [
      "[{'age': 30, 'name': 'Bob'}, {'age': 25, 'name': 'Alice'}]\n"
     ]
    }
   ],
   "source": [
    "#Exercise 85:\n",
    "#Write a Python program that removes duplicates from a list of dictionaries.\n",
    "def remove_duplicate_dicts(dict_list):\n",
    "    unique_dicts = [dict(t) for t in {tuple(sorted(d.items())) for d in dict_list}]\n",
    "    return unique_dicts\n",
    "\n",
    "dicts = [\n",
    "    {'name': 'Alice', 'age': 25},\n",
    "    {'name': 'Bob', 'age': 30},\n",
    "    {'name': 'Alice', 'age': 25}\n",
    "]\n",
    "\n",
    "print(remove_duplicate_dicts(dicts))"
   ]
  },
  {
   "cell_type": "code",
   "execution_count": 5,
   "id": "1a15d38b",
   "metadata": {},
   "outputs": [
    {
     "name": "stdout",
     "output_type": "stream",
     "text": [
      "(1, 9)\n"
     ]
    }
   ],
   "source": [
    "#Exercise 86:\n",
    "\n",
    "#Write a Python function that takes a list of numbers and returns the minimum and maximum numbers in the list.\n",
    "def find_min_max(numbers):\n",
    "    return min(numbers), max(numbers)\n",
    "\n",
    "nums = [3, 7, 1, 9, 4]\n",
    "print(find_min_max(nums))\n"
   ]
  },
  {
   "cell_type": "code",
   "execution_count": 6,
   "id": "adb165ca",
   "metadata": {},
   "outputs": [
    {
     "name": "stdout",
     "output_type": "stream",
     "text": [
      "[(1, 'a'), (2, 'b'), (3, 'c')]\n"
     ]
    }
   ],
   "source": [
    "#Exercise 87:\n",
    "\n",
    "#Write a Python program that creates a list of tuples from two lists.\n",
    "def create_tuples(list1, list2):\n",
    "    return list(zip(list1, list2))\n",
    "\n",
    "list_a = [1, 2, 3]\n",
    "list_b = ['a', 'b', 'c']\n",
    "print(create_tuples(list_a, list_b))\n"
   ]
  },
  {
   "cell_type": "code",
   "execution_count": 7,
   "id": "6d444bce",
   "metadata": {},
   "outputs": [
    {
     "name": "stdout",
     "output_type": "stream",
     "text": [
      "['cherry', 'banana', 'apple']\n"
     ]
    }
   ],
   "source": [
    "#Exercise 88:\n",
    "#Write a Python function that takes a list of strings and returns a list of the strings in reverse order.\n",
    "def reverse_strings(strings):\n",
    "    return strings[::-1]\n",
    "\n",
    "words = ['apple', 'banana', 'cherry']\n",
    "print(reverse_strings(words))\n"
   ]
  },
  {
   "cell_type": "code",
   "execution_count": 8,
   "id": "8bfe99c8",
   "metadata": {},
   "outputs": [
    {
     "name": "stdout",
     "output_type": "stream",
     "text": [
      "9\n"
     ]
    }
   ],
   "source": [
    "#Exercise 89:\n",
    "\n",
    "#Write a Python function that takes a list of integers and returns the sum of all odd numbers.\n",
    "def sum_of_odds(numbers):\n",
    "    return sum(num for num in numbers if num % 2 != 0)\n",
    "\n",
    "nums = [1, 2, 3, 4, 5, 6]\n",
    "print(sum_of_odds(nums))\n"
   ]
  },
  {
   "cell_type": "code",
   "execution_count": 9,
   "id": "d240f888",
   "metadata": {},
   "outputs": [
    {
     "name": "stdout",
     "output_type": "stream",
     "text": [
      "True\n",
      "False\n"
     ]
    }
   ],
   "source": [
    "#Exercise 90:\n",
    "#Write a Python program that checks if a string is a palindrome.\n",
    "def is_palindrome(s):\n",
    "    s = s.replace(' ', '').lower()\n",
    "    return s == s[::-1]\n",
    "\n",
    "print(is_palindrome('madam'))  \n",
    "print(is_palindrome('hello'))  \n"
   ]
  },
  {
   "cell_type": "code",
   "execution_count": 10,
   "id": "f61d4fd1",
   "metadata": {},
   "outputs": [
    {
     "name": "stdout",
     "output_type": "stream",
     "text": [
      "3\n"
     ]
    }
   ],
   "source": [
    "#Exercise 91:\n",
    "#Write a Python program that finds the median of a list of numbers.\n",
    "def find_median(numbers):\n",
    "    numbers = sorted(numbers)\n",
    "    n = len(numbers)\n",
    "    mid = n // 2\n",
    "    if n % 2 == 0:\n",
    "        return (numbers[mid - 1] + numbers[mid]) / 2\n",
    "    else:\n",
    "        return numbers[mid]\n",
    "\n",
    "nums = [3, 1, 4, 2, 5]\n",
    "print(find_median(nums))"
   ]
  },
  {
   "cell_type": "code",
   "execution_count": 11,
   "id": "f2e87f77",
   "metadata": {},
   "outputs": [
    {
     "name": "stdout",
     "output_type": "stream",
     "text": [
      "{'a': 15, 'b': 25, 'c': 25}\n"
     ]
    }
   ],
   "source": [
    "#Exercise 92:\n",
    "#Write a Python function that takes a list of dictionaries and returns a dictionary with the total value for each key.\n",
    "def sum_dict_values(dict_list):\n",
    "    total = {}\n",
    "    for d in dict_list:\n",
    "        for key, value in d.items():\n",
    "            total[key] = total.get(key, 0) + value\n",
    "    return total\n",
    "\n",
    "dicts = [\n",
    "    {'a': 10, 'b': 20},\n",
    "    {'a': 5, 'c': 15},\n",
    "    {'b': 5, 'c': 10}\n",
    "]\n",
    "print(sum_dict_values(dicts))\n"
   ]
  },
  {
   "cell_type": "code",
   "execution_count": 12,
   "id": "02b06b21",
   "metadata": {},
   "outputs": [
    {
     "name": "stdout",
     "output_type": "stream",
     "text": [
      "2\n"
     ]
    }
   ],
   "source": [
    "#Exercise 93:\n",
    "\n",
    "#Write a Python program that calculates the mode of a list of numbers.\n",
    "from statistics import mode\n",
    "\n",
    "def find_mode(numbers):\n",
    "    return mode(numbers)\n",
    "\n",
    "nums = [1, 2, 2, 3, 4, 2, 5]\n",
    "print(find_mode(nums))\n"
   ]
  },
  {
   "cell_type": "code",
   "execution_count": 13,
   "id": "19f823e7",
   "metadata": {},
   "outputs": [
    {
     "name": "stdout",
     "output_type": "stream",
     "text": [
      "30\n"
     ]
    }
   ],
   "source": [
    "#Exercise 94:\n",
    "#Write a Python function that takes a list of numbers and returns the sum of the squares of all the numbers.\n",
    "def sum_of_squares(numbers):\n",
    "    return sum(num ** 2 for num in numbers)\n",
    "\n",
    "nums = [1, 2, 3, 4]\n",
    "print(sum_of_squares(nums))"
   ]
  },
  {
   "cell_type": "code",
   "execution_count": 14,
   "id": "4c6b70c7",
   "metadata": {},
   "outputs": [
    {
     "name": "stdout",
     "output_type": "stream",
     "text": [
      "[(1, 1), (2, 8), (3, 27), (4, 64), (5, 125)]\n"
     ]
    }
   ],
   "source": [
    "#Exercise 95:\n",
    "#Write a Python program that creates a list of tuples, where each tuple contains a number and its cube for numbers from 1 to 5.\n",
    "def number_cubes():\n",
    "    return [(x, x ** 3) for x in range(1, 6)]\n",
    "\n",
    "print(number_cubes())"
   ]
  },
  {
   "cell_type": "code",
   "execution_count": null,
   "id": "4d9f4921",
   "metadata": {},
   "outputs": [],
   "source": [
    "#Exercise 96:\n",
    "#Write a Python function that returns a list of all prime numbers up to n.\n",
    "n = int(input)\n",
    "if n % 1 ==n and n /  \n"
   ]
  },
  {
   "cell_type": "code",
   "execution_count": null,
   "id": "5ab4e205",
   "metadata": {},
   "outputs": [],
   "source": [
    "#Exercise 97:\n",
    "#Write a Python program that finds the common keys between two dictionaries.\n",
    "def common_keys(dict1, dict2):\n",
    "    return list(dict1.keys() & dict2.keys())\n",
    "\n",
    "d1 = {'a': 1, 'b': 2, 'c': 3}\n",
    "d2 = {'b': 5, 'c': 7, 'd': 9}\n",
    "print(common_keys(d1, d2))"
   ]
  },
  {
   "cell_type": "code",
   "execution_count": 15,
   "id": "23044663",
   "metadata": {},
   "outputs": [
    {
     "name": "stdout",
     "output_type": "stream",
     "text": [
      "['banana', 'cherry', 'strawberry']\n"
     ]
    }
   ],
   "source": [
    "#Exercise 98:\n",
    "#Write a Python function that takes a list of strings and returns a list of the strings that contain more than 5 characters.\n",
    "def long_strings(strings):\n",
    "    return [s for s in strings if len(s) > 5]\n",
    "\n",
    "words = ['apple', 'banana', 'cherry', 'kiwi', 'mango', 'strawberry']\n",
    "print(long_strings(words))"
   ]
  },
  {
   "cell_type": "code",
   "execution_count": 46,
   "id": "5938e97f",
   "metadata": {},
   "outputs": [
    {
     "name": "stdout",
     "output_type": "stream",
     "text": [
      "[('apple', 5), ('banana', 6), ('cherry', 6)]\n"
     ]
    }
   ],
   "source": [
    "#Exercise 99:\n",
    "#Write a Python program that converts a list of strings into a list of tuples, where each tuple contains the string and its length.\n",
    "def string_with_length(strings):\n",
    "    return [(s, len(s)) for s in strings]\n",
    "\n",
    "words = [\"apple\", \"banana\", \"cherry\"]\n",
    "print(string_with_length(words))  "
   ]
  },
  {
   "cell_type": "code",
   "execution_count": 45,
   "id": "6528dfe1",
   "metadata": {},
   "outputs": [
    {
     "name": "stdout",
     "output_type": "stream",
     "text": [
      "{'a': 6, 'b': 9, 'c': 12}\n"
     ]
    }
   ],
   "source": [
    "#Exercise 100:\n",
    "#Write a Python function that takes a list of dictionaries and returns a new dictionary by summing the values of each key across all dictionaries.\n",
    "def sum_dicts(dict_list):\n",
    "    result = {}\n",
    "    for d in dict_list:\n",
    "        for key, value in d.items():\n",
    "            result[key] = result.get(key, 0) + value\n",
    "    return result\n",
    "\n",
    "dicts = [\n",
    "    {'a': 1, 'b': 2, 'c': 3},\n",
    "    {'a': 2, 'b': 3, 'c': 4},\n",
    "    {'a': 3, 'b': 4, 'c': 5}\n",
    "]\n",
    "\n",
    "print(sum_dicts(dicts))"
   ]
  }
 ],
 "metadata": {
  "colab": {
   "provenance": []
  },
  "kernelspec": {
   "display_name": "Python [conda env:base] *",
   "language": "python",
   "name": "conda-base-py"
  },
  "language_info": {
   "codemirror_mode": {
    "name": "ipython",
    "version": 3
   },
   "file_extension": ".py",
   "mimetype": "text/x-python",
   "name": "python",
   "nbconvert_exporter": "python",
   "pygments_lexer": "ipython3",
   "version": "3.12.4"
  }
 },
 "nbformat": 4,
 "nbformat_minor": 5
}
