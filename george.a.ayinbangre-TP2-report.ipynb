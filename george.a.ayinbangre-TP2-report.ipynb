{
 "cells": [
  {
   "cell_type": "markdown",
   "id": "d68c1dee",
   "metadata": {
    "id": "d68c1dee"
   },
   "source": [
    "# Practical_2: String and files"
   ]
  },
  {
   "cell_type": "markdown",
   "id": "b42fdf0c",
   "metadata": {
    "id": "bea983a3"
   },
   "source": [
    "---\n",
    "\n",
    "### Exercise 1:\n",
    "Create a string variable `text` and assign it the value `\"Python is amazing!\"`.\n",
    "\n",
    "```python\n",
    "# Exercise 1\n",
    "```\n",
    "\n",
    "---"
   ]
  },
  {
   "cell_type": "code",
   "execution_count": 1,
   "id": "fc30cb2a",
   "metadata": {},
   "outputs": [],
   "source": [
    "text= \"Python is amazing!\""
   ]
  },
  {
   "cell_type": "markdown",
   "id": "5adac306",
   "metadata": {
    "id": "bea983a3"
   },
   "source": [
    "### Exercise 2:\n",
    "Find the length of the string `\"Hello, World!\"` and store it in a variable `length`.\n",
    "\n",
    "```python\n",
    "# Exercise 2\n",
    "```\n",
    "\n",
    "---"
   ]
  },
  {
   "cell_type": "code",
   "execution_count": 8,
   "id": "7fa8ff05",
   "metadata": {},
   "outputs": [
    {
     "name": "stdout",
     "output_type": "stream",
     "text": [
      "13\n"
     ]
    }
   ],
   "source": [
    "length=len(\"Hello, World!\")\n",
    "print(length)"
   ]
  },
  {
   "cell_type": "markdown",
   "id": "2938fb08",
   "metadata": {
    "id": "bea983a3"
   },
   "source": [
    "### Exercise 3:\n",
    "Convert the string `\"python programming\"` to uppercase and store it in a variable `upper_text`.\n",
    "\n",
    "```python\n",
    "# Exercise 3\n",
    "```\n",
    "\n",
    "---"
   ]
  },
  {
   "cell_type": "code",
   "execution_count": 8,
   "id": "552652ef",
   "metadata": {},
   "outputs": [
    {
     "data": {
      "text/plain": [
       "'PYTHON PROGRAMMING'"
      ]
     },
     "execution_count": 8,
     "metadata": {},
     "output_type": "execute_result"
    }
   ],
   "source": [
    "\"python programming\".upper()"
   ]
  },
  {
   "cell_type": "markdown",
   "id": "e2f4dc1c",
   "metadata": {
    "id": "bea983a3"
   },
   "source": [
    "### Exercise 4:\n",
    "Extract the first 5 characters from the string `\"Artificial Intelligence\"`.\n",
    "\n",
    "```python\n",
    "# Exercise 4\n",
    "```\n",
    "\n",
    "---"
   ]
  },
  {
   "cell_type": "code",
   "execution_count": 11,
   "id": "550517de",
   "metadata": {},
   "outputs": [
    {
     "name": "stdout",
     "output_type": "stream",
     "text": [
      "Artif\n"
     ]
    }
   ],
   "source": [
    "word= \"Artificial Intelligence\"\n",
    "print(word[:5])"
   ]
  },
  {
   "cell_type": "markdown",
   "id": "0e6c6f01",
   "metadata": {
    "id": "bea983a3"
   },
   "source": [
    "### Exercise 5:\n",
    "Concatenate the strings `\"Hello\"` and `\"World\"` with a space in between.\n",
    "\n",
    "```python\n",
    "# Exercise 5\n",
    "```\n",
    "\n",
    "---"
   ]
  },
  {
   "cell_type": "code",
   "execution_count": 14,
   "id": "17bb5d59",
   "metadata": {},
   "outputs": [
    {
     "name": "stdout",
     "output_type": "stream",
     "text": [
      "Hello World\n"
     ]
    }
   ],
   "source": [
    "a= \"Hello\"\n",
    "b= \"World\"\n",
    "c= a + \" \"+ b\n",
    "print(c)"
   ]
  },
  {
   "cell_type": "markdown",
   "id": "705ee614",
   "metadata": {
    "id": "bea983a3"
   },
   "source": [
    "### Exercise 6:\n",
    "Replace the word `\"dog\"` with `\"cat\"` in the string `\"The quick brown dog jumps over the lazy dog.\"`.\n",
    "\n",
    "```python\n",
    "# Exercise 6\n",
    "```\n",
    "\n",
    "---"
   ]
  },
  {
   "cell_type": "code",
   "execution_count": 18,
   "id": "55fff899",
   "metadata": {},
   "outputs": [
    {
     "name": "stdout",
     "output_type": "stream",
     "text": [
      "The quick brown cat jumps over the lazy cat.\n"
     ]
    }
   ],
   "source": [
    "man= \"The quick brown dog jumps over the lazy dog.\"\n",
    "man=man.replace(\"dog\", \"cat\")\n",
    "print(man)"
   ]
  },
  {
   "cell_type": "markdown",
   "id": "03a5b992",
   "metadata": {
    "id": "bea983a3"
   },
   "source": [
    "### Exercise 7:\n",
    "Split the string `\"apple,banana,orange\"` by commas and store the result in a list `fruits_list`.\n",
    "\n",
    "```python\n",
    "# Exercise 7\n",
    "```\n",
    "\n",
    "---"
   ]
  },
  {
   "cell_type": "code",
   "execution_count": 30,
   "id": "f99a0782",
   "metadata": {},
   "outputs": [
    {
     "name": "stdout",
     "output_type": "stream",
     "text": [
      "['apple', 'banana', 'orange']\n"
     ]
    }
   ],
   "source": [
    "fruits= \"apple,banana,orange\"\n",
    "fruits_list= fruits.split(\",\")\n",
    "print(fruits_list)"
   ]
  },
  {
   "cell_type": "markdown",
   "id": "c758bc52",
   "metadata": {
    "id": "bea983a3"
   },
   "source": [
    "### Exercise 8:\n",
    "Use string formatting to create the sentence `\"My name is Alice and I am 25 years old.\"`, where the name and age are variables.\n",
    "\n",
    "```python\n",
    "# Exercise 8\n",
    "```\n",
    "\n",
    "---"
   ]
  },
  {
   "cell_type": "code",
   "execution_count": 9,
   "id": "642afb73",
   "metadata": {},
   "outputs": [
    {
     "name": "stdout",
     "output_type": "stream",
     "text": [
      "My name is george and I am 12 years old.\n"
     ]
    }
   ],
   "source": [
    "\n",
    "\n",
    "sentence= \"My name is {} and I am {} years old.\"\n",
    "sentence=sentence.format(\"george\", \"12\")\n",
    "print(sentence)"
   ]
  },
  {
   "cell_type": "code",
   "execution_count": 10,
   "id": "b9166e3e",
   "metadata": {},
   "outputs": [
    {
     "name": "stdout",
     "output_type": "stream",
     "text": [
      "My name is George and I am 12 years old.\n"
     ]
    }
   ],
   "source": [
    "\n",
    "sentence= \"My name is {name} and I am {age} years old.\"\n",
    "print(sentence.format( name=\"George\", age=12))"
   ]
  },
  {
   "cell_type": "markdown",
   "id": "606068e2",
   "metadata": {
    "id": "bea983a3"
   },
   "source": [
    "### Exercise 9:\n",
    "Check if the string `\"python\"` is present in the sentence `\"I love python programming\"`.\n",
    "\n",
    "```python\n",
    "# Exercise 9\n",
    "```\n",
    "\n",
    "---"
   ]
  },
  {
   "cell_type": "code",
   "execution_count": 8,
   "id": "d143f721",
   "metadata": {},
   "outputs": [
    {
     "name": "stdout",
     "output_type": "stream",
     "text": [
      "True\n"
     ]
    }
   ],
   "source": [
    "hi=  \"I love python programming\"\n",
    "print(\"python\" in hi )"
   ]
  },
  {
   "cell_type": "markdown",
   "id": "1fdedc9b",
   "metadata": {
    "id": "bea983a3"
   },
   "source": [
    "### Exercise 10:\n",
    "Count the number of occurrences of the letter `\"e\"` in the string `\"Elephant is an elegant animal\"`.\n",
    "\n",
    "```python\n",
    "# Exercise 10\n",
    "```\n",
    "\n",
    "---"
   ]
  },
  {
   "cell_type": "code",
   "execution_count": 11,
   "id": "42eaf492",
   "metadata": {},
   "outputs": [
    {
     "data": {
      "text/plain": [
       "3"
      ]
     },
     "execution_count": 11,
     "metadata": {},
     "output_type": "execute_result"
    }
   ],
   "source": [
    "hi= \"Elephant is an elegant animal\"\n",
    "hi.count(\"e\")"
   ]
  },
  {
   "cell_type": "markdown",
   "id": "a29dd563",
   "metadata": {
    "id": "bea983a3"
   },
   "source": [
    "### Exercise 11:\n",
    "Remove any leading and trailing spaces from the string `\"   Data Science   \"`.\n",
    "\n",
    "```python\n",
    "# Exercise 11\n",
    "```\n",
    "\n",
    "---"
   ]
  },
  {
   "cell_type": "code",
   "execution_count": 15,
   "id": "8df7c78b",
   "metadata": {},
   "outputs": [
    {
     "data": {
      "text/plain": [
       "'Data Science'"
      ]
     },
     "execution_count": 15,
     "metadata": {},
     "output_type": "execute_result"
    }
   ],
   "source": [
    "hi=\"   Data Science   \"\n",
    "hi.strip()"
   ]
  },
  {
   "cell_type": "markdown",
   "id": "a1b03046",
   "metadata": {
    "id": "bea983a3"
   },
   "source": [
    "### Exercise 12:\n",
    "Convert the string `\"100\"` into an integer and store it in a variable `int_value`.\n",
    "\n",
    "```python\n",
    "# Exercise 12\n",
    "```\n",
    "\n",
    "---"
   ]
  },
  {
   "cell_type": "code",
   "execution_count": 16,
   "id": "da939377",
   "metadata": {},
   "outputs": [
    {
     "name": "stdout",
     "output_type": "stream",
     "text": [
      "<class 'int'>\n"
     ]
    }
   ],
   "source": [
    "word= \"100\"\n",
    "int_value= int(\"100\")\n",
    "print(type(int_value))"
   ]
  },
  {
   "cell_type": "markdown",
   "id": "13a7d456",
   "metadata": {
    "id": "bea983a3"
   },
   "source": [
    "### Exercise 13:\n",
    "Extract the substring `\"pro\"` from the string `\"programming\"`.\n",
    "\n",
    "```python\n",
    "# Exercise 13\n",
    "```\n",
    "\n",
    "---"
   ]
  },
  {
   "cell_type": "code",
   "execution_count": 18,
   "id": "d34969e5",
   "metadata": {},
   "outputs": [
    {
     "name": "stdout",
     "output_type": "stream",
     "text": [
      "pro\n"
     ]
    }
   ],
   "source": [
    "hi= \"programming\"\n",
    "print(hi[:3])"
   ]
  },
  {
   "cell_type": "markdown",
   "id": "57cd2f3a",
   "metadata": {
    "id": "bea983a3"
   },
   "source": [
    "### Exercise 14:\n",
    "Check if the string `\"data\"` starts with `\"da\"` and ends with `\"ta\"`.\n",
    "\n",
    "```python\n",
    "# Exercise 14\n",
    "```\n",
    "\n",
    "---"
   ]
  },
  {
   "cell_type": "code",
   "execution_count": 20,
   "id": "c7cdcbdf",
   "metadata": {},
   "outputs": [
    {
     "name": "stdout",
     "output_type": "stream",
     "text": [
      "True\n",
      "True\n"
     ]
    }
   ],
   "source": [
    "hi= \"data\"\n",
    "print(hi.endswith(\"ta\"))\n",
    "print(hi.startswith(\"da\"))"
   ]
  },
  {
   "cell_type": "markdown",
   "id": "7adfec73",
   "metadata": {
    "id": "bea983a3"
   },
   "source": [
    "### Exercise 15:\n",
    "Reverse the string `\"machine learning\"` and store the result in `reversed_text`.\n",
    "\n",
    "```python\n",
    "# Exercise 15\n",
    "```\n",
    "\n",
    "---"
   ]
  },
  {
   "cell_type": "code",
   "execution_count": 24,
   "id": "4b1fd95a",
   "metadata": {},
   "outputs": [
    {
     "name": "stdout",
     "output_type": "stream",
     "text": [
      "gninrael enihcam\n"
     ]
    }
   ],
   "source": [
    "hi= \"machine learning\"\n",
    "reverse_text=hi[::-1]\n",
    "print(reverse_text)"
   ]
  },
  {
   "cell_type": "markdown",
   "id": "1a4372a3",
   "metadata": {
    "id": "bea983a3"
   },
   "source": [
    "### Exercise 16:\n",
    "Convert the first letter of each word in the string `\"machine learning is fun\"` to uppercase.\n",
    "\n",
    "```python\n",
    "# Exercise 16\n",
    "```\n",
    "\n",
    "---"
   ]
  },
  {
   "cell_type": "code",
   "execution_count": 40,
   "id": "6f1f9f0d",
   "metadata": {},
   "outputs": [
    {
     "name": "stdout",
     "output_type": "stream",
     "text": [
      "Machine Learning Is Fun\n"
     ]
    }
   ],
   "source": [
    "hi= \"machine learning is fun\"\n",
    "hi=hi.title()\n",
    "print(hi)"
   ]
  },
  {
   "cell_type": "markdown",
   "id": "38118be3",
   "metadata": {
    "id": "bea983a3"
   },
   "source": [
    "### Exercise 17:\n",
    "Create a multiline string representing a poem and store it in a variable `poem`.\n",
    "\n",
    "```python\n",
    "# Exercise 17\n",
    "```\n",
    "\n",
    "---"
   ]
  },
  {
   "cell_type": "code",
   "execution_count": 30,
   "id": "52b032b5",
   "metadata": {},
   "outputs": [],
   "source": [
    "poem= \"\"\" folllowing\n",
    "\"\"\""
   ]
  },
  {
   "cell_type": "markdown",
   "id": "5a1bf709",
   "metadata": {
    "id": "bea983a3"
   },
   "source": [
    "### Exercise 18:\n",
    "Write a string to a file named `\"output.txt\"`.\n",
    "\n",
    "```python\n",
    "# Exercise 18\n",
    "```\n",
    "\n",
    "---"
   ]
  },
  {
   "cell_type": "code",
   "execution_count": 9,
   "id": "bb000a59",
   "metadata": {},
   "outputs": [
    {
     "data": {
      "text/plain": [
       "17"
      ]
     },
     "execution_count": 9,
     "metadata": {},
     "output_type": "execute_result"
    }
   ],
   "source": [
    "file= open(\"data.txt\", \"r+\")\n",
    "file.write(\"i am coming again\")"
   ]
  },
  {
   "cell_type": "markdown",
   "id": "5e0fbaed",
   "metadata": {
    "id": "bea983a3"
   },
   "source": [
    "### Exercise 19:\n",
    "Read the contents of a file named `\"data.txt\"` and print it line by line.\n",
    "\n",
    "```python\n",
    "# Exercise 19\n",
    "```\n",
    "\n",
    "---"
   ]
  },
  {
   "cell_type": "code",
   "execution_count": 39,
   "id": "756f5f67",
   "metadata": {},
   "outputs": [
    {
     "name": "stdout",
     "output_type": "stream",
     "text": [
      "my name is george. i am a student of aims. i have friends like james, Morrele, romarin, silas, thiery, limya, juliana, fathoumata,  DR. coura, Dr. Raissa and many more\n"
     ]
    }
   ],
   "source": [
    "file= open(\"data.txt\", \"r\")\n",
    "print(file.read())\n",
    "file.close()"
   ]
  },
  {
   "cell_type": "markdown",
   "id": "face0f77",
   "metadata": {
    "id": "bea983a3"
   },
   "source": [
    "### Exercise 20:\n",
    "Check if a file `\"example.txt\"` exists before opening it.\n",
    "\n",
    "```python\n",
    "# Exercise 20\n",
    "```\n",
    "\n",
    "---"
   ]
  },
  {
   "cell_type": "code",
   "execution_count": 38,
   "id": "d29b46bc",
   "metadata": {},
   "outputs": [
    {
     "name": "stdout",
     "output_type": "stream",
     "text": [
      "file exist\n"
     ]
    }
   ],
   "source": [
    "import os\n",
    "if os.path.isfile(\"data.txt\"):\n",
    "    print(\"file exist\")"
   ]
  },
  {
   "cell_type": "markdown",
   "id": "1481b9eb",
   "metadata": {
    "id": "bea983a3"
   },
   "source": [
    "### Exercise 21:\n",
    "Append a new line `\"This is a new line\"` to an existing file `\"notes.txt\"`.\n",
    "\n",
    "```python\n",
    "# Exercise 21\n",
    "```\n",
    "\n",
    "---"
   ]
  },
  {
   "cell_type": "code",
   "execution_count": 48,
   "id": "e77b97c5",
   "metadata": {},
   "outputs": [],
   "source": [
    "file= open(\"data.txt\", \"w\")\n",
    "file.write(\"This is a new line\")\n",
    "file.close()"
   ]
  },
  {
   "cell_type": "code",
   "execution_count": 51,
   "id": "ef556604",
   "metadata": {},
   "outputs": [],
   "source": [
    "file= open(\"data.txt\", \"r\")\n",
    "file.read()\n",
    "file.close()"
   ]
  },
  {
   "cell_type": "markdown",
   "id": "06299614",
   "metadata": {
    "id": "bea983a3"
   },
   "source": [
    "### Exercise 22:\n",
    "Read the contents of a file `\"log.txt\"` and store each line in a list `log_lines`.\n",
    "\n",
    "```python\n",
    "# Exercise 22\n",
    "```\n",
    "\n",
    "---"
   ]
  },
  {
   "cell_type": "code",
   "execution_count": 57,
   "id": "4332a21e",
   "metadata": {},
   "outputs": [
    {
     "name": "stdout",
     "output_type": "stream",
     "text": [
      "['we will all be great people one day and look back at our struggle and smile thnanking ourselves for nnever giving up. one day i say one day ']\n"
     ]
    }
   ],
   "source": [
    "file= open(\"log.txt\", \"r\")\n",
    "log_line = file.readlines()\n",
    "print(log_line)\n",
    "    \n",
    "file.close()"
   ]
  },
  {
   "cell_type": "markdown",
   "id": "6db7a4a9",
   "metadata": {
    "id": "bea983a3"
   },
   "source": [
    "### Exercise 23:\n",
    "Create a new file `\"report.txt\"` and write the string `\"Data analysis report\"` to it.\n",
    "\n",
    "```python\n",
    "# Exercise 23\n",
    "```\n",
    "\n",
    "---"
   ]
  },
  {
   "cell_type": "code",
   "execution_count": 63,
   "id": "0400ad65",
   "metadata": {},
   "outputs": [],
   "source": [
    "file= open (\"report.txt\", \"a\")\n",
    "fly=file.write(\"Data analysis report\")\n",
    "file.close()"
   ]
  },
  {
   "cell_type": "markdown",
   "id": "944499e1",
   "metadata": {
    "id": "bea983a3"
   },
   "source": [
    "### Exercise 24:\n",
    "Replace the word `\"error\"` with `\"issue\"` in a file `\"log.txt\"`.\n",
    "\n",
    "```python\n",
    "# Exercise 24\n",
    "```\n",
    "\n",
    "---"
   ]
  },
  {
   "cell_type": "code",
   "execution_count": 75,
   "id": "46229854",
   "metadata": {},
   "outputs": [
    {
     "name": "stdout",
     "output_type": "stream",
     "text": [
      "issue\n",
      "issue\n",
      "issue\n",
      "issue\n",
      "issue\n",
      "issue\n",
      "\n",
      "\n",
      "\n",
      "\n",
      "\n",
      "issue\n",
      "issue\n",
      "issue 11\n",
      "issue 14555\n"
     ]
    }
   ],
   "source": [
    "file= open(\"log.txt\",  \"r\")\n",
    "content=file.read()\n",
    "\n",
    "file.close()\n",
    "\n",
    "go=content.replace(\"error\", \"issue\")\n",
    "print(go)\n",
    "file= open(\"log.txt\", \"w\")\n",
    "file.write(go)\n",
    "\n",
    "file.close()"
   ]
  },
  {
   "cell_type": "markdown",
   "id": "f362b064",
   "metadata": {
    "id": "bea983a3"
   },
   "source": [
    "### Exercise 25:\n",
    "Count the number of words in a text file `\"document.txt\"`.\n",
    "\n",
    "```python\n",
    "# Exercise 25\n",
    "```\n",
    "\n",
    "---"
   ]
  },
  {
   "cell_type": "code",
   "execution_count": 87,
   "id": "523d635c",
   "metadata": {},
   "outputs": [
    {
     "name": "stdout",
     "output_type": "stream",
     "text": [
      "13\n"
     ]
    }
   ],
   "source": [
    "file= open(\"me.txt\", \"r\")\n",
    "ko= file.read()\n",
    "file.close()\n",
    "fp=len(ko.split())\n",
    "print(fp)\n"
   ]
  },
  {
   "cell_type": "markdown",
   "id": "2167bcd9",
   "metadata": {
    "id": "bea983a3"
   },
   "source": [
    "### Exercise 26:\n",
    "Write a Python script that reads a file `\"essay.txt\"` and prints the total number of lines, words, and characters.\n",
    "\n",
    "```python\n",
    "# Exercise 26\n",
    "```\n",
    "\n",
    "---"
   ]
  },
  {
   "cell_type": "code",
   "execution_count": 96,
   "id": "1e0f196f",
   "metadata": {},
   "outputs": [
    {
     "name": "stdout",
     "output_type": "stream",
     "text": [
      "13\n",
      "57\n",
      "0\n"
     ]
    }
   ],
   "source": [
    "file= open(\"me.txt\", \"r\")\n",
    "go= file.read()\n",
    "\n",
    "\n",
    "ho=len(go.split())\n",
    "print(ho)\n",
    "hi=len(go)\n",
    "print(hi)\n",
    "ha= file.readline()\n",
    "print(len(ha))"
   ]
  },
  {
   "cell_type": "markdown",
   "id": "83bda1aa",
   "metadata": {
    "id": "bea983a3"
   },
   "source": [
    "### Exercise 27:with open('example.txt', 'r') as file:\n",
    "    \n",
    "   \n",
    "Copy the contents of one file `\"source.txt\"` to another file `\"destination.txt\"`.\n",
    "\n",
    "```python\n",
    "# Exercise 27\n",
    "```\n",
    "\n",
    "---"
   ]
  },
  {
   "cell_type": "code",
   "execution_count": 10,
   "id": "c166f00b",
   "metadata": {
    "scrolled": true
   },
   "outputs": [
    {
     "name": "stdout",
     "output_type": "stream",
     "text": [
      "Error: source.txt not found\n"
     ]
    }
   ],
   "source": [
    "def copy_file():\n",
    "    \"\"\"Copies source.txt to destination.txt\"\"\"\n",
    "    try:\n",
    "        with open(\"source.txt\", \"r\") as source:\n",
    "            with open(\"destination.txt\", \"w\") as destination:\n",
    "                destination.write(source.read())\n",
    "        \n",
    "        print(\"File copied successfully: source.txt → destination.txt\")\n",
    "        \n",
    "    except FileNotFoundError:\n",
    "        print(\"Error: source.txt not found\")\n",
    "    except Exception as e:\n",
    "        print(f\"Error: {e}\")\n",
    "\n",
    "copy_file()"
   ]
  },
  {
   "cell_type": "markdown",
   "id": "f879afdd",
   "metadata": {
    "id": "bea983a3"
   },
   "source": [
    "### Exercise 28:\n",
    "Write a Python function that takes a filename as input and returns the number of lines in the file.\n",
    "\n",
    "```python\n",
    "# Exercise 28\n",
    "```\n",
    "\n",
    "---"
   ]
  },
  {
   "cell_type": "code",
   "execution_count": null,
   "id": "f92323c3",
   "metadata": {},
   "outputs": [],
   "source": [
    "def count_lines(filename):\n",
    "    \"\"\"Returns the number of lines in a file\"\"\"\n",
    "    try:\n",
    "        with open(filename, 'r') as file:\n",
    "            return len(file.readlines())\n",
    "    except FileNotFoundError:\n",
    "        print(f\"Error: {filename} not found\")\n",
    "        return 0\n",
    "\n",
    "line_count = count_lines(\"message.txt\")\n",
    "print(f\"Number of lines in message.txt: {line_count}\")"
   ]
  },
  {
   "cell_type": "markdown",
   "id": "6049184e",
   "metadata": {
    "id": "bea983a3"
   },
   "source": [
    "### Exercise 29:\n",
    "Extract all the words from a text file `\"article.txt\"` that contain more than 5 characters.\n",
    "\n",
    "```python\n",
    "# Exercise 29\n",
    "```\n",
    "\n",
    "---"
   ]
  },
  {
   "cell_type": "code",
   "execution_count": null,
   "id": "736f9268",
   "metadata": {},
   "outputs": [],
   "source": [
    "def extract_long_words():\n",
    "    \"\"\"Extracts words with more than 5 characters from article.txt\"\"\"\n",
    "    try:\n",
    "        with open(\"article.txt\", \"r\") as file:\n",
    "            text = file.read()\n",
    "        \n",
    "        words = text.split()\n",
    "        long_words = [word for word in words if len(word) > 5]\n",
    "        \n",
    "        print(f\"Found {len(long_words)} words with more than 5 characters:\")\n",
    "        print(\"-\" * 50)\n",
    "        for word in long_words[:20]:  # Show first 20\n",
    "            print(word)\n",
    "        \n",
    "        if len(long_words) > 20:\n",
    "            print(f\"... and {len(long_words) - 20} more words\")\n",
    "            \n",
    "    except FileNotFoundError:\n",
    "        print(\"Error: article.txt not found\")\n",
    "extract_long_words()"
   ]
  },
  {
   "cell_type": "markdown",
   "id": "cbbd38e4",
   "metadata": {
    "id": "bea983a3"
   },
   "source": [
    "### Exercise 30:\n",
    "Convert the contents of a file `\"notes.txt\"` to uppercase and save the result in another file `\"uppercase_notes.txt\"`.\n",
    "\n",
    "```python\n",
    "# Exercise 30\n",
    "```\n",
    "\n",
    "---"
   ]
  },
  {
   "cell_type": "code",
   "execution_count": null,
   "id": "b25e3e1f",
   "metadata": {},
   "outputs": [],
   "source": [
    "file= open(\"notes.txt\", \"r\")\n",
    "content= file.read()\n",
    "content1= content.upper()\n",
    "file.close()\n",
    "with open(\"uppercase_notes.txt\", \"w\") as file:\n",
    "    file.write(content1)\n",
    "file.close()\n"
   ]
  },
  {
   "cell_type": "markdown",
   "id": "f830f923",
   "metadata": {
    "id": "bea983a3"
   },
   "source": [
    "### Exercise 31:\n",
    "Write a Python script that reads a file and removes all empty lines.\n",
    "\n",
    "```python\n",
    "# Exercise 31\n",
    "```\n",
    "\n",
    "---"
   ]
  },
  {
   "cell_type": "code",
   "execution_count": null,
   "id": "706cea9b",
   "metadata": {},
   "outputs": [],
   "source": [
    "with open('notes.txt', 'r') as file:\n",
    "    lines = file.readlines()\n",
    "\n",
    "non_empty_lines = [line for line in lines if line.strip()]\n",
    "\n",
    "with open('notes.txt', 'w') as file:\n",
    "    file.writelines(non_empty_lines)"
   ]
  },
  {
   "cell_type": "markdown",
   "id": "06aae316",
   "metadata": {
    "id": "bea983a3"
   },
   "source": [
    "### Exercise 32:\n",
    "Open a file `\"config.txt\"` in both read and write mode.\n",
    "\n",
    "```python\n",
    "# Exercise 32\n",
    "```\n",
    "\n",
    "---"
   ]
  },
  {
   "cell_type": "code",
   "execution_count": null,
   "id": "bf649155",
   "metadata": {},
   "outputs": [],
   "source": [
    "file= open(\"config.txt\", \"a\")\n",
    "\n",
    "file= open(\"config.txt\", \"r+\")"
   ]
  },
  {
   "cell_type": "markdown",
   "id": "e091c548",
   "metadata": {
    "id": "bea983a3"
   },
   "source": [
    "### Exercise 33:\n",
    "Write a Python function that reads a file and prints the longest line in the file.\n",
    "\n",
    "```python\n",
    "# Exercise 33\n",
    "```\n",
    "\n",
    "---"
   ]
  },
  {
   "cell_type": "code",
   "execution_count": null,
   "id": "7f2e5a1c",
   "metadata": {},
   "outputs": [],
   "source": [
    "def find_longest_line():\n",
    "    \"\"\"Compact version\"\"\"\n",
    "    try:\n",
    "        with open(\"book.txt\", \"r\") as f:\n",
    "            lines = f.readlines()\n",
    "            if lines:\n",
    "                longest = max(lines, key=len)\n",
    "                print(f\"Longest line ({len(longest)} chars): {repr(longest)}\")\n",
    "            else:\n",
    "                print(\"File is empty\")\n",
    "    except FileNotFoundError:\n",
    "        print(\"book.txt not found\")\n",
    "\n",
    "\n",
    "find_longest_line()"
   ]
  },
  {
   "cell_type": "markdown",
   "id": "488665b6",
   "metadata": {
    "id": "bea983a3"
   },
   "source": [
    "### Exercise 34:\n",
    "Write a Python script to count the frequency of each letter in a text file `\"message.txt\"`.\n",
    "\n",
    "```python\n",
    "# Exercise 34\n",
    "```\n",
    "\n",
    "---"
   ]
  },
  {
   "cell_type": "code",
   "execution_count": null,
   "id": "7d9dd769",
   "metadata": {},
   "outputs": [],
   "source": [
    "file= open(\"message.txt\", \"a\")\n",
    "def count_letter_frequency():\n",
    "    \"\"\"Counts frequency of each letter in message.txt\"\"\"\n",
    "    try:\n",
    "        with open(\"message.txt\", \"r\") as file:\n",
    "            text = file.read().lower()\n",
    "        \n",
    "        letter_count = {}\n",
    "        for char in text:\n",
    "            if char.isalpha():\n",
    "                letter_count[char] = letter_count.get(char, 0) + 1\n",
    "        \n",
    "        print(\"Letter frequencies in message.txt:\")\n",
    "        print(\"-\" * 30)\n",
    "        for letter in sorted(letter_count.keys()):\n",
    "            print(f\"{letter}: {letter_count[letter]}\")\n",
    "            \n",
    "    except FileNotFoundError:\n",
    "        print(\"Error: message.txt not found\")\n",
    "\n",
    "count_letter_frequency()"
   ]
  },
  {
   "cell_type": "markdown",
   "id": "150b65c3",
   "metadata": {
    "id": "bea983a3"
   },
   "source": [
    "### Exercise 35:\n",
    "Write a Python script that reads a file and prints the total number of characters, excluding spaces.\n",
    "\n",
    "```python\n",
    "# Exercise 35\n",
    "```\n",
    "\n",
    "---"
   ]
  },
  {
   "cell_type": "code",
   "execution_count": null,
   "id": "adf01206",
   "metadata": {},
   "outputs": [],
   "source": [
    "def count_chars_no_spaces():\n",
    "    \"\"\"Counts total characters excluding spaces in message.txt\"\"\"\n",
    "    try:\n",
    "        with open(\"message.txt\", \"r\") as file:\n",
    "            text = file.read()\n",
    "        \n",
    "        count = 0\n",
    "        for char in text:\n",
    "            if char != ' ':\n",
    "                count += 1\n",
    "        \n",
    "        print(f\"Total characters (excluding spaces): {count}\")\n",
    "        \n",
    "    except FileNotFoundError:\n",
    "        print(\"Error: message.txt not found\")\n",
    "count_chars_no_spaces()"
   ]
  },
  {
   "cell_type": "markdown",
   "id": "cf712087",
   "metadata": {
    "id": "bea983a3"
   },
   "source": [
    "### Exercise 36:\n",
    "Create a Python script to check whether a file is empty or not.\n",
    "\n",
    "```python\n",
    "# Exercise 36\n",
    "```\n",
    "\n",
    "---"
   ]
  },
  {
   "cell_type": "code",
   "execution_count": null,
   "id": "71213961",
   "metadata": {},
   "outputs": [],
   "source": [
    "def check_file_empty():\n",
    "    \"\"\"Checks if message.txt is empty\"\"\"\n",
    "    try:\n",
    "        with open(\"message.txt\", \"r\") as file:\n",
    "            content = file.read()\n",
    "        \n",
    "        if len(content) == 0:\n",
    "            print(\"The file message.txt is empty\")\n",
    "        else:\n",
    "            print(\"The file message.txt is not empty\")\n",
    "            print(f\"File size: {len(content)} characters\")\n",
    "            \n",
    "    except FileNotFoundError:\n",
    "        print(\"Error: message.txt not found\")\n",
    "check_file_empty()"
   ]
  },
  {
   "cell_type": "markdown",
   "id": "1361655f",
   "metadata": {
    "id": "bea983a3"
   },
   "source": [
    "### Exercise 37:\n",
    "Write a Python function that reads a file and removes all punctuation marks from the text.\n",
    "\n",
    "```python\n",
    "# Exercise 37\n",
    "```\n",
    "\n",
    "---"
   ]
  },
  {
   "cell_type": "code",
   "execution_count": null,
   "id": "8ce18535",
   "metadata": {},
   "outputs": [],
   "source": [
    "import re\n",
    "\n",
    "def remove_punctuation_regex():\n",
    "    \"\"\"Removes punctuation using regular expressions\"\"\"\n",
    "    try:\n",
    "        with open(\"message.txt\", \"r\") as file:\n",
    "            text = file.read()\n",
    "        \n",
    "        clean_text = re.sub(r'[^\\w\\s]', '', text)\n",
    "        \n",
    "        with open(\"message.txt\", \"w\") as file:\n",
    "            file.write(clean_text)\n",
    "        \n",
    "        print(\"Punctuation removed using regex\")\n",
    "        \n",
    "    except FileNotFoundError:\n",
    "        print(\"Error: message.txt not found\")\n",
    "remove_punctuation_regex()"
   ]
  },
  {
   "cell_type": "markdown",
   "id": "1b5d2f4a",
   "metadata": {
    "id": "bea983a3"
   },
   "source": [
    "### Exercise 38:\n",
    "Create a Python function that writes a list of strings to a file, each string on a new line.\n",
    "\n",
    "```python\n",
    "# Exercise 38\n",
    "```\n",
    "\n",
    "---"
   ]
  },
  {
   "cell_type": "code",
   "execution_count": null,
   "id": "1c29eefb",
   "metadata": {},
   "outputs": [],
   "source": [
    "strings_list=\" i will be a very rich guy soon\"\n",
    "\n",
    "def string_on_newline(strings_list):\n",
    "    \"\"\"Function that writes a list of strings to a file, each string on a new line\"\"\"\n",
    "    with open(\"book.txt\", \"w\") as file:\n",
    "        for string in strings_list:\n",
    "            file.write(string + \"\\n\")\n",
    "\n",
    "string_on_newline(strings_list)"
   ]
  },
  {
   "cell_type": "markdown",
   "id": "28cbfa56",
   "metadata": {
    "id": "bea983a3"
   },
   "source": [
    "### Exercise 39:\n",
    "Write a Python script to count the number of lines that start with a specific letter (e.g., \"A\") in a text file.\n",
    "\n",
    "```python\n",
    "# Exercise 39\n",
    "```\n",
    "\n",
    "---"
   ]
  },
  {
   "cell_type": "code",
   "execution_count": null,
   "id": "26805bd6",
   "metadata": {},
   "outputs": [],
   "source": [
    "filename = \"message.txt\"\n",
    "target_letter = \"A\"\n",
    "\n",
    "try:\n",
    "    with open(filename, 'r') as file:\n",
    "        count = sum(1 for line in file if line.strip().startswith(target_letter))\n",
    "    print(f\"Lines starting with '{target_letter}': {count}\")\n",
    "except FileNotFoundError:\n",
    "    print(f\"File '{filename}' not found.\")"
   ]
  },
  {
   "cell_type": "markdown",
   "id": "551da89b",
   "metadata": {
    "id": "bea983a3"
   },
   "source": [
    "### Exercise 40:\n",
    "Write a Python function that takes a string as input and writes it to a file `\"output.txt\"` in reverse order.\n",
    "\n",
    "```python\n",
    "# Exercise 40\n",
    "```\n",
    "\n",
    "---"
   ]
  },
  {
   "cell_type": "code",
   "execution_count": null,
   "id": "0795879a",
   "metadata": {},
   "outputs": [],
   "source": [
    "cont= \"print the reverse in a file using a function that works for whatsoever string i am given\"\n",
    "\n",
    "def write_the_reverse(cont):\n",
    "    \"\"\"print the reverse in a file using a function that works for whatsoever string i am given\"\"\"\n",
    "reverse= cont[::-1]\n",
    "\n",
    "file= open(\"output.txt\", \"w\")\n",
    "file.write(reverse)\n",
    "write_the_reverse(cont)\n"
   ]
  },
  {
   "cell_type": "markdown",
   "id": "76d89e72",
   "metadata": {
    "id": "bea983a3"
   },
   "source": [
    "### Exercise 41:\n",
    "Write a Python script that reads a file and prints all the lines that contain the word `\"Python\"`.\n",
    "\n",
    "```python\n",
    "# Exercise 41\n",
    "```\n",
    "\n",
    "---"
   ]
  },
  {
   "cell_type": "code",
   "execution_count": null,
   "id": "5cb94291",
   "metadata": {},
   "outputs": [],
   "source": [
    "def find_python_lines():\n",
    "    \"\"\"Finds and prints all lines containing 'python'\"\"\"\n",
    "    try:\n",
    "        with open(\"message.txt\", \"r\") as file:\n",
    "            lines = file.readlines()\n",
    "        \n",
    "        python_lines = [line.strip() for line in lines if \"python\" in line]\n",
    "        \n",
    "        if python_lines:\n",
    "            print(\"Lines containing 'python':\")\n",
    "            print(\"-\" * 30)\n",
    "            for i, line in enumerate(python_lines, 1):\n",
    "                print(f\"{i}. {line}\")\n",
    "        else:\n",
    "            print(\"No lines containing 'python' found\")\n",
    "            \n",
    "    except FileNotFoundError:\n",
    "        print(\"Error: message.txt not found\")\n",
    "find_python_lines()"
   ]
  },
  {
   "cell_type": "markdown",
   "id": "51f6233a",
   "metadata": {
    "id": "bea983a3"
   },
   "source": [
    "### Exercise 42:\n",
    "Write a Python script that opens a file and removes all numeric digits from the file's content.\n",
    "\n",
    "```python\n",
    "# Exercise 42\n",
    "```\n",
    "\n",
    "---"
   ]
  },
  {
   "cell_type": "code",
   "execution_count": null,
   "id": "9329f53b",
   "metadata": {},
   "outputs": [],
   "source": [
    "file= open(\"book.txt\", \"r\")\n",
    "content= file.read()\n",
    "file.close()\n",
    "\n",
    "def remove_numbers(content):\n",
    "    remove_digits = str.maketrans('', '', '0123456789')\n",
    "    return content.translate(remove_digits)\n",
    "\n",
    "content1=remove_numbers(content)\n",
    "\n",
    "\n"
   ]
  },
  {
   "cell_type": "markdown",
   "id": "0fb3aa74",
   "metadata": {
    "id": "bea983a3"
   },
   "source": [
    "### Exercise 43:\n",
    "Write a Python script to find the most frequent word in a text file `\"book.txt\"`.\n",
    "\n",
    "```python\n",
    "# Exercise 43\n",
    "```\n",
    "\n",
    "---"
   ]
  },
  {
   "cell_type": "code",
   "execution_count": null,
   "id": "aa50a410",
   "metadata": {},
   "outputs": [],
   "source": [
    "file= open(\"book.txt\", \"r\")\n",
    "word= file.read()\n",
    "words=word.split()\n",
    "\n",
    "def most_frequent_word(words):\n",
    "    word_count = {}\n",
    "    \n",
    "    \n",
    "    for word in words:\n",
    "        word_count[word] = word_count.get(word, 0) + 1\n",
    "    \n",
    "    \n",
    "    most_common = max(word_count, key=word_count.get)\n",
    "    return most_common, word_count[most_common]\n",
    "\n",
    "\n",
    "word, freq = most_frequent_word(words)\n",
    "print(f\"Most frequent: '{word}' ({freq} times)\")"
   ]
  },
  {
   "cell_type": "markdown",
   "id": "8479529f",
   "metadata": {
    "id": "bea983a3"
   },
   "source": [
    "### Exercise 44:\n",
    "Write a Python script that reads a file and prints all the lines that contain exactly 5 words.\n",
    "\n",
    "```python\n",
    "# Exercise 44\n",
    "```\n",
    "\n",
    "---"
   ]
  },
  {
   "cell_type": "code",
   "execution_count": null,
   "id": "18914ca9",
   "metadata": {},
   "outputs": [],
   "source": [
    "file=open(\"me.txt\", \"r\")\n",
    "[print(line.strip()) for line in file if len(line.split()) == 5]\n"
   ]
  },
  {
   "cell_type": "markdown",
   "id": "a703ca28",
   "metadata": {
    "id": "bea983a3"
   },
   "source": [
    "### Exercise 45:\n",
    "Write a Python script to read a file and print the first and last line of the file.\n",
    "\n",
    "```python\n",
    "# Exercise 45\n",
    "```\n",
    "\n",
    "---"
   ]
  },
  {
   "cell_type": "code",
   "execution_count": null,
   "id": "b1f60581",
   "metadata": {},
   "outputs": [],
   "source": [
    "with open(\"me.txt\", \"r\") as file:\n",
    "    content= file.read()\n",
    "content= content.splitlines()\n",
    "print(content[0])\n",
    "print(content[-1])\n"
   ]
  },
  {
   "cell_type": "markdown",
   "id": "33bb13cc",
   "metadata": {
    "id": "bea983a3"
   },
   "source": [
    "### Exercise 46:\n",
    "Write a Python script that checks if a file `\"students.txt\"` is writable.\n",
    "\n",
    "```python\n",
    "# Exercise 46\n",
    "```\n",
    "\n",
    "---"
   ]
  },
  {
   "cell_type": "code",
   "execution_count": null,
   "id": "3003667d",
   "metadata": {},
   "outputs": [],
   "source": [
    "import os\n",
    "os.access?\n",
    "filename= \"students.txt\"\n",
    "if os.path.isfile(filename):\n",
    "    if os.access(filename, os.W_OK):\n",
    "        print(\"is writable\")\n",
    "    else:\n",
    "        print(\"is not writable\")\n",
    "    file.close()"
   ]
  },
  {
   "cell_type": "markdown",
   "id": "98b88591",
   "metadata": {
    "id": "bea983a3"
   },
   "source": [
    "### Exercise 47:\n",
    "Create a Python function that opens a file and returns the number of unique words in the file.\n",
    "\n",
    "```python\n",
    "# Exercise 47\n",
    "```\n",
    "\n",
    "---"
   ]
  },
  {
   "cell_type": "code",
   "execution_count": null,
   "id": "c970c743",
   "metadata": {},
   "outputs": [],
   "source": [
    "with open(\"me.txt\", \"r\") as file:\n",
    "    content= file.read()\n",
    "content=content.split()\n",
    "sest= set(content)\n",
    "len(sest)\n",
    "\n"
   ]
  },
  {
   "cell_type": "markdown",
   "id": "353f5ba7",
   "metadata": {
    "id": "bea983a3"
   },
   "source": [
    "### Exercise 48:\n",
    "Write a Python script that reads a file and prints all lines in reverse order.\n",
    "\n",
    "```python\n",
    "# Exercise 48\n",
    "```\n",
    "\n",
    "---"
   ]
  },
  {
   "cell_type": "code",
   "execution_count": null,
   "id": "a69888d4",
   "metadata": {},
   "outputs": [],
   "source": [
    "with open (\"me.txt\", \"r\") as file:\n",
    "    content= file.read()\n",
    "file.close()\n",
    "content=content[::-1]\n",
    "print(content)\n",
    "    "
   ]
  },
  {
   "cell_type": "markdown",
   "id": "86922055",
   "metadata": {
    "id": "bea983a3"
   },
   "source": [
    "### Exercise 49:\n",
    "Write a Python function that reads a file and returns the most common letter in the text.\n",
    "\n",
    "```python\n",
    "# Exercise 49\n",
    "```\n",
    "\n",
    "---"
   ]
  },
  {
   "cell_type": "code",
   "execution_count": null,
   "id": "856720fc",
   "metadata": {},
   "outputs": [],
   "source": [
    "file= open(\"me.txt\", \"a\")\n",
    "with open (\"me.txt\", \"r\") as file:\n",
    "    content= file.read().lower()\n",
    "file.close()\n",
    "counts={}\n",
    "for char in text:\n",
    "    if char.isalpha():\n",
    "        counts[char]= counts.get(char, 0)+1\n",
    "\n",
    "if counts: \n",
    "    letters = max(counts, key=counts.get)\n",
    "    print(f\"most common letter: '{letter}'\")"
   ]
  },
  {
   "cell_type": "markdown",
   "id": "bea983a3",
   "metadata": {
    "id": "bea983a3"
   },
   "source": [
    "### Exercise 50:\n",
    "Write a Python script that reads a file and replaces every occurrence of `\"Python\"` with `\"Java\"`.\n",
    "\n",
    "```python\n",
    "# Exercise 50\n",
    "```\n",
    "\n",
    "---"
   ]
  },
  {
   "cell_type": "code",
   "execution_count": 3,
   "id": "dcf6ca38",
   "metadata": {
    "id": "dcf6ca38"
   },
   "outputs": [],
   "source": [
    "with open(\"me.txt\", \"r\") as file:\n",
    "    content= file.read()\n",
    "file.close\n",
    "content=content.replace(\"python\", \"java\")\n",
    "print(content)\n",
    "file= open(\"me.txt\", \"w\")\n",
    "file.write(content)\n",
    "\n",
    "print(content)\n",
    "\n",
    "    "
   ]
  }
 ],
 "metadata": {
  "colab": {
   "provenance": []
  },
  "kernelspec": {
   "display_name": "Python 3 (ipykernel)",
   "language": "python",
   "name": "python3"
  },
  "language_info": {
   "codemirror_mode": {
    "name": "ipython",
    "version": 3
   },
   "file_extension": ".py",
   "mimetype": "text/x-python",
   "name": "python",
   "nbconvert_exporter": "python",
   "pygments_lexer": "ipython3",
   "version": "3.10.12"
  }
 },
 "nbformat": 4,
 "nbformat_minor": 5
}
